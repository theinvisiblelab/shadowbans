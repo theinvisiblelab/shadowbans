{
 "cells": [
  {
   "cell_type": "markdown",
   "id": "0de001bb-e3b8-46ec-a706-49865792f2ea",
   "metadata": {},
   "source": [
    "## IG Shadowban"
   ]
  },
  {
   "cell_type": "code",
   "execution_count": 10,
   "id": "72ba2914-735b-4eed-9570-72d2d81ed487",
   "metadata": {},
   "outputs": [],
   "source": [
    "import os\n",
    "from dotenv import load_dotenv\n",
    "from instagrapi import Client\n",
    "import time"
   ]
  },
  {
   "cell_type": "code",
   "execution_count": 2,
   "id": "fa9e0d4c-58d7-4935-b4d0-660a8df0b501",
   "metadata": {},
   "outputs": [
    {
     "data": {
      "text/plain": [
       "True"
      ]
     },
     "execution_count": 2,
     "metadata": {},
     "output_type": "execute_result"
    }
   ],
   "source": [
    "load_dotenv()\n",
    "\n",
    "USERNAME = os.getenv(\"INSTAGRAM_USERNAME\")\n",
    "PASSWORD = os.getenv(\"INSTAGRAM_PASSWORD\")\n",
    "\n",
    "cl = Client()\n",
    "cl.login(USERNAME, PASSWORD)"
   ]
  },
  {
   "cell_type": "code",
   "execution_count": 5,
   "id": "194d0d80-5d37-49ff-9db5-d031348a54a9",
   "metadata": {},
   "outputs": [
    {
     "name": "stdout",
     "output_type": "stream",
     "text": [
      "Log in successfully\n"
     ]
    }
   ],
   "source": [
    "cl = Client()\n",
    "\n",
    "try:\n",
    "    cl.login(USERNAME, PASSWORD)\n",
    "    print(\"Log in successfully\")\n",
    "except Exception as e:\n",
    "    print(f\"Failed: {e}\")\n",
    "    exit(1)"
   ]
  },
  {
   "cell_type": "code",
   "execution_count": 6,
   "id": "9ab7a48e-c26b-4acf-9777-cdd62dc08cdb",
   "metadata": {},
   "outputs": [
    {
     "name": "stdout",
     "output_type": "stream",
     "text": [
      "['amsterdam.encampment', 'free.palestine.nl', 'dutchscholarsforpalestine', 'p.g.n.l', 'nationalsjp', 'plant.eenolijfboom', 'middleeasteye', 'cambridgeforpalestine', 'workersforpalestine.nl', 'utrecht4palestine', 'bds_nederland', 'europe.palestine.network', 'artsenvoorgaza', 'revolutionaireeenheid', 'studentsforpalestine', 'letstalkpalestine', 'erevravnl', 'aljazeeraenglish', 'flyers_for_falastin', 'rollingforpalestine', 'palestinesolidarityrotterdam', 'vakbondsolidairmetpalestina', 'xr.justicenow', 'bds.movement', 'brusselsagainstgenocide']\n"
     ]
    }
   ],
   "source": [
    "usernames_v1 = [\n",
    "    \"amsterdam.encampment\",\n",
    "    \"free.palestine.nl\",\n",
    "    \"dutchscholarsforpalestine\",\n",
    "    \"p.g.n.l\",\n",
    "    \"nationalsjp\",\n",
    "    \"plant.eenolijfboom\",\n",
    "    \"middleeasteye\",\n",
    "    \"cambridgeforpalestine\",\n",
    "    \"workersforpalestine.nl\",\n",
    "    \"utrecht4palestine\",\n",
    "    \"bds_nederland\",\n",
    "    \"europe.palestine.network\",\n",
    "    \"artsenvoorgaza\",\n",
    "    \"revolutionaireeenheid\",\n",
    "    \"studentsforpalestine\",\n",
    "    \"letstalkpalestine\",\n",
    "    \"erevravnl\",\n",
    "    \"aljazeeraenglish\",\n",
    "    \"flyers_for_falastin\",\n",
    "    \"rollingforpalestine\",\n",
    "    \"palestinesolidarityrotterdam\",\n",
    "    \"vakbondsolidairmetpalestina\",\n",
    "    \"xr.justicenow\",\n",
    "    \"bds.movement\",\n",
    "    \"brusselsagainstgenocide\"\n",
    "]\n",
    "\n",
    "print(usernames_v1)"
   ]
  },
  {
   "cell_type": "code",
   "execution_count": 7,
   "id": "e395ec2c-643c-40c8-bc7d-4e5b9129a8cf",
   "metadata": {},
   "outputs": [
    {
     "name": "stdout",
     "output_type": "stream",
     "text": [
      "['cidi_nieuws', 'israellycool_', 'jewylouiscomics', 'israelinnl', 'isr.fa', 'israelinireland', 'israelinmontreal', 'cominghomesoon.online', 'israelisabroad.wzo', 'israelwarroom', 'eyalyakoby', 'afshineemrani', 'peacecomms', 'jewishagency', 'bringofirhome', 'eylonalevy', 'howcoolisrael', 'christenenvoorisrael', 'isrealitynl', 'christenanderseiteisraels']\n"
     ]
    }
   ],
   "source": [
    "usernames_v2 = [\n",
    "    \"cidi_nieuws\",\n",
    "    \"israellycool_\",\n",
    "    \"jewylouiscomics\",\n",
    "    \"israelinnl\",\n",
    "    \"isr.fa\",\n",
    "    \"israelinireland\",\n",
    "    \"israelinmontreal\",\n",
    "    \"cominghomesoon.online\",\n",
    "    \"israelisabroad.wzo\",\n",
    "    \"israelwarroom\",\n",
    "    \"eyalyakoby\",\n",
    "    \"afshineemrani\",\n",
    "    \"peacecomms\",\n",
    "    \"jewishagency\",\n",
    "    \"bringofirhome\",\n",
    "    \"eylonalevy\",\n",
    "    \"howcoolisrael\",\n",
    "    \"christenenvoorisrael\",\n",
    "    \"isrealitynl\",\n",
    "    \"christenanderseiteisraels\"\n",
    "]\n",
    "\n",
    "print(usernames_v2)"
   ]
  },
  {
   "cell_type": "code",
   "execution_count": 8,
   "id": "e72e0914-50f5-4502-af99-251175bb8457",
   "metadata": {},
   "outputs": [
    {
     "name": "stderr",
     "output_type": "stream",
     "text": [
      "Status 201: JSONDecodeError in public_request (url=https://www.instagram.com/wendyzhu2020/?__a=1&__d=dis) >>> \n",
      "Status 201: JSONDecodeError in public_request (url=https://www.instagram.com/wendyzhu2020/?__a=1&__d=dis) >>> \n",
      "Status 201: JSONDecodeError in public_request (url=https://www.instagram.com/wendyzhu2020/?__a=1&__d=dis) >>> \n"
     ]
    }
   ],
   "source": [
    "# Target public Instagram profile\n",
    "TARGET_USERNAME = \"wendyzhu2020\"\n",
    "\n",
    "# Get user ID\n",
    "user_id = cl.user_id_from_username(TARGET_USERNAME)\n",
    "\n",
    "# Get Full List of Followers\n",
    "followers = cl.user_followers(user_id, amount=50)  # amount=0 fetches all\n",
    "followers_list = [user.username for user in followers.values()]\n",
    "\n",
    "# Get Full List of Followees\n",
    "followees = cl.user_following(user_id, amount=50)\n",
    "followees_list = [user.username for user in followees.values()]\n",
    "\n",
    "# Get User's Recent Posts\n",
    "posts = cl.user_medias(user_id, amount=3)  # Fetch last 3 posts\n",
    "\n",
    "# Extract Likes & Comments for each post\n",
    "post_data = []\n",
    "for post in posts:\n",
    "    media_id = post.id\n",
    "    post_url = f\"https://www.instagram.com/p/{post.code}/\"\n",
    "\n",
    "    # Get Likes\n",
    "    likes = cl.media_likers(media_id)\n",
    "    likes_list = [user.username for user in likes]\n",
    "\n",
    "    # Get Comments\n",
    "    comments = cl.media_comments(media_id)\n",
    "    comments_list = [comment.text for comment in comments]\n",
    "\n",
    "    post_data.append({\n",
    "        \"post_url\": post_url,\n",
    "        \"likes_count\": len(likes_list),\n",
    "        \"likes\": likes_list,\n",
    "        \"comments_count\": len(comments_list),\n",
    "        \"comments\": comments_list\n",
    "    })"
   ]
  },
  {
   "cell_type": "code",
   "execution_count": 11,
   "id": "2c62381a-946d-40a3-9a7d-95888661bd79",
   "metadata": {},
   "outputs": [
    {
     "name": "stdout",
     "output_type": "stream",
     "text": [
      "TARGET_USERNAME: wendyzhu2020\n",
      "Get the ID: 33198346013\n",
      "Followers: 50\n",
      "Followees: 50\n",
      "Posts: 3\n",
      "Deal with https://www.instagram.com/p/C1kPXuIoonB/，likes: 18, comments: 2\n",
      "Deal with https://www.instagram.com/p/CxyVDw8ofAm/，likes: 10, comments: 1\n",
      "Deal with https://www.instagram.com/p/CvHW0Cbofpf/，likes: 12, comments: 0\n"
     ]
    }
   ],
   "source": [
    "print(f\"TARGET_USERNAME: {TARGET_USERNAME}\")\n",
    "\n",
    "try:\n",
    "    user_id = cl.user_id_from_username(TARGET_USERNAME)\n",
    "    print(f\"Get the ID: {user_id}\")\n",
    "except Exception as e:\n",
    "    print(f\"Failed: {e}\")\n",
    "    user_id = None\n",
    "\n",
    "if user_id:\n",
    "    try:\n",
    "        followers = cl.user_followers(user_id, amount=50)\n",
    "        followers_list = [user.username for user in followers.values()]\n",
    "        print(f\"Followers: {len(followers_list)}\")\n",
    "    except Exception as e:\n",
    "        print(f\"Failed: {e}\")\n",
    "        followers_list = []\n",
    "\n",
    "    try:\n",
    "        followees = cl.user_following(user_id, amount=50)\n",
    "        followees_list = [user.username for user in followees.values()]\n",
    "        print(f\"Followees: {len(followees_list)}\")\n",
    "    except Exception as e:\n",
    "        print(f\"Failed: {e}\")\n",
    "        followees_list = []\n",
    "\n",
    "    try:\n",
    "        posts = cl.user_medias(user_id, amount=3)\n",
    "        print(f\"Posts: {len(posts)}\")\n",
    "    except Exception as e:\n",
    "        print(f\"Failed: {e}\")\n",
    "        posts = []\n",
    "\n",
    "    post_data = []\n",
    "    for post in posts:\n",
    "        try:\n",
    "            media_id = post.id\n",
    "            post_url = f\"https://www.instagram.com/p/{post.code}/\"\n",
    "            likes = cl.media_likers(media_id)\n",
    "            likes_list = [user.username for user in likes]\n",
    "\n",
    "            comments = cl.media_comments(media_id)\n",
    "            comments_list = [comment.text for comment in comments]\n",
    "\n",
    "            post_data.append({\n",
    "                \"post_url\": post_url,\n",
    "                \"likes_count\": len(likes_list),\n",
    "                \"likes\": likes_list,\n",
    "                \"comments_count\": len(comments_list),\n",
    "                \"comments\": comments_list\n",
    "            })\n",
    "            print(f\"Deal with {post_url}，likes: {len(likes_list)}, comments: {len(comments_list)}\")\n",
    "\n",
    "            time.sleep(1)\n",
    "        except Exception as e:\n",
    "            print(f\" {post_url} failed: {e}\")\n",
    "else:\n",
    "    print(\"End.\")\n"
   ]
  },
  {
   "cell_type": "code",
   "execution_count": null,
   "id": "3ae5c5ea-1cbf-4c61-862a-8c95a700d20e",
   "metadata": {},
   "outputs": [],
   "source": []
  },
  {
   "cell_type": "markdown",
   "id": "8418c60e-a7ba-4157-872c-b682f2f8de39",
   "metadata": {},
   "source": [
    "## Reddit\n",
    "https://github.com/johannessms/reddit-shadowban-tester/blob/main/shadowbantester.py"
   ]
  },
  {
   "cell_type": "code",
   "execution_count": 32,
   "id": "116a5623-c43a-494b-a82e-9b30959c9ed1",
   "metadata": {},
   "outputs": [],
   "source": [
    "import streamlit as st\n",
    "import praw\n",
    "import prawcore\n",
    "import time\n",
    "import pandas as pd\n",
    "\n",
    "# Get credentials from Streamlit secrets\n",
    "reddit = praw.Reddit(\n",
    "    client_id=\"###\",\n",
    "    client_secret=\"###\",\n",
    "    user_agent=\"###\"\n",
    ")"
   ]
  },
  {
   "cell_type": "code",
   "execution_count": 34,
   "id": "43a56859-21cd-4675-bb21-8e846098e1d0",
   "metadata": {},
   "outputs": [],
   "source": [
    "def is_shadowbanned(username):\n",
    "    try:\n",
    "        user = reddit.redditor(username)\n",
    "        _ = user.id\n",
    "        return False  # Not shadowbanned\n",
    "    except prawcore.exceptions.NotFound:\n",
    "        return True  # Shadowbanned or does not exist    \n",
    "    except Exception as e:\n",
    "        st.error(f\"Error for {username}: {e}\")\n",
    "        return None"
   ]
  },
  {
   "cell_type": "code",
   "execution_count": 36,
   "id": "97abf086-7435-4a59-84a8-b8cdf3de8a75",
   "metadata": {},
   "outputs": [],
   "source": [
    "usernames = [\n",
    "    \"windy_zhu\"\n",
    "]"
   ]
  },
  {
   "cell_type": "code",
   "execution_count": 37,
   "id": "47fd41d3-83f4-4f63-9d98-736e3308c53c",
   "metadata": {},
   "outputs": [
    {
     "name": "stdout",
     "output_type": "stream",
     "text": [
      "Checking windy_zhu (1/1)...\n",
      "\n",
      "=== Results ===\n",
      "windy_zhu: Not shadowbanned\n"
     ]
    }
   ],
   "source": [
    "results = {}\n",
    "\n",
    "for i, username in enumerate(usernames, 1):\n",
    "    print(f\"Checking {username} ({i}/{len(usernames)})...\")\n",
    "    result = is_shadowbanned(username)\n",
    "    if result is True:\n",
    "        results[username] = \"Shadowbanned or does not exist\"\n",
    "    elif result is False:\n",
    "        results[username] = \"Not shadowbanned\"\n",
    "    else:\n",
    "        results[username] = \"Error during check\"\n",
    "    time.sleep(1)\n",
    "\n",
    "print(\"\\n=== Results ===\")\n",
    "for username, status in results.items():\n",
    "    print(f\"{username}: {status}\")"
   ]
  },
  {
   "cell_type": "code",
   "execution_count": null,
   "id": "b1fdd29b-a37c-4b55-a180-e374bec8567e",
   "metadata": {},
   "outputs": [],
   "source": []
  },
  {
   "cell_type": "markdown",
   "id": "242ab119-bd7c-4157-9bd5-eff541cd88e1",
   "metadata": {},
   "source": [
    "## Twitter Shadowban\n",
    "\n",
    "This one was adapted from: https://github.com/shadowban-eu/testing/blob/master/tests/ghostban.py\n",
    "to test if whether any replies to a specific user's tweets are being shadowbanned. However, when I tried to use my X account to log in and test, my account was blocked temporarily. I will try later."
   ]
  },
  {
   "cell_type": "code",
   "execution_count": 37,
   "id": "4fa856d2-12c9-4829-9bd2-600cd03e3782",
   "metadata": {},
   "outputs": [],
   "source": [
    "import asyncio\n",
    "from twikit import Client\n",
    "import traceback\n",
    "import logging\n",
    "\n",
    "logging.basicConfig(level=logging.ERROR)\n",
    "log = logging.getLogger(__name__)"
   ]
  },
  {
   "cell_type": "code",
   "execution_count": 53,
   "id": "ce7c021b-8772-4460-8668-b25b8813b6c6",
   "metadata": {},
   "outputs": [
    {
     "ename": "BadRequest",
     "evalue": "status: 400, message: \"{\"errors\":[{\"code\":399,\"message\":\"Sorry, we kunnen je account niet vinden. g;175149599967329584:-1751495999813:pVGCLfpsfvaGSIiObfQUJgyX:1\"}]}\"",
     "output_type": "error",
     "traceback": [
      "\u001b[0;31m---------------------------------------------------------------------------\u001b[0m",
      "\u001b[0;31mBadRequest\u001b[0m                                Traceback (most recent call last)",
      "Cell \u001b[0;32mIn[53], line 46\u001b[0m\n\u001b[1;32m     43\u001b[0m     \u001b[38;5;28mprint\u001b[39m(\u001b[38;5;124m\"\u001b[39m\u001b[38;5;124mTest result:\u001b[39m\u001b[38;5;124m\"\u001b[39m, result)\n\u001b[1;32m     45\u001b[0m \u001b[38;5;28;01mif\u001b[39;00m \u001b[38;5;18m__name__\u001b[39m \u001b[38;5;241m==\u001b[39m \u001b[38;5;124m\"\u001b[39m\u001b[38;5;124m__main__\u001b[39m\u001b[38;5;124m\"\u001b[39m:\n\u001b[0;32m---> 46\u001b[0m     asyncio\u001b[38;5;241m.\u001b[39mrun(main())\n",
      "File \u001b[0;32m/opt/anaconda3/lib/python3.12/site-packages/nest_asyncio.py:30\u001b[0m, in \u001b[0;36m_patch_asyncio.<locals>.run\u001b[0;34m(main, debug)\u001b[0m\n\u001b[1;32m     28\u001b[0m task \u001b[38;5;241m=\u001b[39m asyncio\u001b[38;5;241m.\u001b[39mensure_future(main)\n\u001b[1;32m     29\u001b[0m \u001b[38;5;28;01mtry\u001b[39;00m:\n\u001b[0;32m---> 30\u001b[0m     \u001b[38;5;28;01mreturn\u001b[39;00m loop\u001b[38;5;241m.\u001b[39mrun_until_complete(task)\n\u001b[1;32m     31\u001b[0m \u001b[38;5;28;01mfinally\u001b[39;00m:\n\u001b[1;32m     32\u001b[0m     \u001b[38;5;28;01mif\u001b[39;00m \u001b[38;5;129;01mnot\u001b[39;00m task\u001b[38;5;241m.\u001b[39mdone():\n",
      "File \u001b[0;32m/opt/anaconda3/lib/python3.12/site-packages/nest_asyncio.py:98\u001b[0m, in \u001b[0;36m_patch_loop.<locals>.run_until_complete\u001b[0;34m(self, future)\u001b[0m\n\u001b[1;32m     95\u001b[0m \u001b[38;5;28;01mif\u001b[39;00m \u001b[38;5;129;01mnot\u001b[39;00m f\u001b[38;5;241m.\u001b[39mdone():\n\u001b[1;32m     96\u001b[0m     \u001b[38;5;28;01mraise\u001b[39;00m \u001b[38;5;167;01mRuntimeError\u001b[39;00m(\n\u001b[1;32m     97\u001b[0m         \u001b[38;5;124m'\u001b[39m\u001b[38;5;124mEvent loop stopped before Future completed.\u001b[39m\u001b[38;5;124m'\u001b[39m)\n\u001b[0;32m---> 98\u001b[0m \u001b[38;5;28;01mreturn\u001b[39;00m f\u001b[38;5;241m.\u001b[39mresult()\n",
      "File \u001b[0;32m/opt/anaconda3/lib/python3.12/asyncio/futures.py:203\u001b[0m, in \u001b[0;36mFuture.result\u001b[0;34m(self)\u001b[0m\n\u001b[1;32m    201\u001b[0m \u001b[38;5;28mself\u001b[39m\u001b[38;5;241m.\u001b[39m__log_traceback \u001b[38;5;241m=\u001b[39m \u001b[38;5;28;01mFalse\u001b[39;00m\n\u001b[1;32m    202\u001b[0m \u001b[38;5;28;01mif\u001b[39;00m \u001b[38;5;28mself\u001b[39m\u001b[38;5;241m.\u001b[39m_exception \u001b[38;5;129;01mis\u001b[39;00m \u001b[38;5;129;01mnot\u001b[39;00m \u001b[38;5;28;01mNone\u001b[39;00m:\n\u001b[0;32m--> 203\u001b[0m     \u001b[38;5;28;01mraise\u001b[39;00m \u001b[38;5;28mself\u001b[39m\u001b[38;5;241m.\u001b[39m_exception\u001b[38;5;241m.\u001b[39mwith_traceback(\u001b[38;5;28mself\u001b[39m\u001b[38;5;241m.\u001b[39m_exception_tb)\n\u001b[1;32m    204\u001b[0m \u001b[38;5;28;01mreturn\u001b[39;00m \u001b[38;5;28mself\u001b[39m\u001b[38;5;241m.\u001b[39m_result\n",
      "File \u001b[0;32m/opt/anaconda3/lib/python3.12/asyncio/tasks.py:314\u001b[0m, in \u001b[0;36mTask.__step_run_and_handle_result\u001b[0;34m(***failed resolving arguments***)\u001b[0m\n\u001b[1;32m    310\u001b[0m \u001b[38;5;28;01mtry\u001b[39;00m:\n\u001b[1;32m    311\u001b[0m     \u001b[38;5;28;01mif\u001b[39;00m exc \u001b[38;5;129;01mis\u001b[39;00m \u001b[38;5;28;01mNone\u001b[39;00m:\n\u001b[1;32m    312\u001b[0m         \u001b[38;5;66;03m# We use the `send` method directly, because coroutines\u001b[39;00m\n\u001b[1;32m    313\u001b[0m         \u001b[38;5;66;03m# don't have `__iter__` and `__next__` methods.\u001b[39;00m\n\u001b[0;32m--> 314\u001b[0m         result \u001b[38;5;241m=\u001b[39m coro\u001b[38;5;241m.\u001b[39msend(\u001b[38;5;28;01mNone\u001b[39;00m)\n\u001b[1;32m    315\u001b[0m     \u001b[38;5;28;01melse\u001b[39;00m:\n\u001b[1;32m    316\u001b[0m         result \u001b[38;5;241m=\u001b[39m coro\u001b[38;5;241m.\u001b[39mthrow(exc)\n",
      "Cell \u001b[0;32mIn[53], line 31\u001b[0m, in \u001b[0;36mmain\u001b[0;34m()\u001b[0m\n\u001b[1;32m     29\u001b[0m \u001b[38;5;28;01masync\u001b[39;00m \u001b[38;5;28;01mdef\u001b[39;00m \u001b[38;5;21mmain\u001b[39m():\n\u001b[1;32m     30\u001b[0m     client \u001b[38;5;241m=\u001b[39m Client()\n\u001b[0;32m---> 31\u001b[0m     \u001b[38;5;28;01mawait\u001b[39;00m client\u001b[38;5;241m.\u001b[39mlogin(\n\u001b[1;32m     32\u001b[0m         auth_info_1\u001b[38;5;241m=\u001b[39m\u001b[38;5;124m\"\u001b[39m\u001b[38;5;124mwendyzh####\u001b[39m\u001b[38;5;124m\"\u001b[39m,\n\u001b[1;32m     33\u001b[0m         password\u001b[38;5;241m=\u001b[39m\u001b[38;5;124m\"\u001b[39m\u001b[38;5;124m###\u001b[39m\u001b[38;5;124m\"\u001b[39m,\n\u001b[1;32m     34\u001b[0m         auth_info_2\u001b[38;5;241m=\u001b[39m\u001b[38;5;28;01mNone\u001b[39;00m,\n\u001b[1;32m     35\u001b[0m         totp_secret\u001b[38;5;241m=\u001b[39m\u001b[38;5;28;01mNone\u001b[39;00m\n\u001b[1;32m     36\u001b[0m     )\n\u001b[1;32m     37\u001b[0m     \u001b[38;5;28mprint\u001b[39m(\u001b[38;5;124m\"\u001b[39m\u001b[38;5;124mLog in successfully\u001b[39m\u001b[38;5;124m\"\u001b[39m)\n\u001b[1;32m     39\u001b[0m     user_info \u001b[38;5;241m=\u001b[39m \u001b[38;5;28;01mawait\u001b[39;00m client\u001b[38;5;241m.\u001b[39mget_user(\u001b[38;5;124m\"\u001b[39m\u001b[38;5;124mStarlink\u001b[39m\u001b[38;5;124m\"\u001b[39m)\n",
      "File \u001b[0;32m/opt/anaconda3/lib/python3.12/site-packages/twikit/client/client.py:412\u001b[0m, in \u001b[0;36mClient.login\u001b[0;34m(self, auth_info_1, auth_info_2, password, totp_secret, cookies_file, enable_ui_metrics)\u001b[0m\n\u001b[1;32m    403\u001b[0m     ui_metrics_response \u001b[38;5;241m=\u001b[39m \u001b[38;5;124m'\u001b[39m\u001b[38;5;124m'\u001b[39m\n\u001b[1;32m    405\u001b[0m \u001b[38;5;28;01mawait\u001b[39;00m flow\u001b[38;5;241m.\u001b[39mexecute_task({\n\u001b[1;32m    406\u001b[0m     \u001b[38;5;124m'\u001b[39m\u001b[38;5;124msubtask_id\u001b[39m\u001b[38;5;124m'\u001b[39m: \u001b[38;5;124m'\u001b[39m\u001b[38;5;124mLoginJsInstrumentationSubtask\u001b[39m\u001b[38;5;124m'\u001b[39m,\n\u001b[1;32m    407\u001b[0m     \u001b[38;5;124m'\u001b[39m\u001b[38;5;124mjs_instrumentation\u001b[39m\u001b[38;5;124m'\u001b[39m: {\n\u001b[0;32m   (...)\u001b[0m\n\u001b[1;32m    410\u001b[0m     }\n\u001b[1;32m    411\u001b[0m })\n\u001b[0;32m--> 412\u001b[0m \u001b[38;5;28;01mawait\u001b[39;00m flow\u001b[38;5;241m.\u001b[39mexecute_task({\n\u001b[1;32m    413\u001b[0m     \u001b[38;5;124m'\u001b[39m\u001b[38;5;124msubtask_id\u001b[39m\u001b[38;5;124m'\u001b[39m: \u001b[38;5;124m'\u001b[39m\u001b[38;5;124mLoginEnterUserIdentifierSSO\u001b[39m\u001b[38;5;124m'\u001b[39m,\n\u001b[1;32m    414\u001b[0m     \u001b[38;5;124m'\u001b[39m\u001b[38;5;124msettings_list\u001b[39m\u001b[38;5;124m'\u001b[39m: {\n\u001b[1;32m    415\u001b[0m         \u001b[38;5;124m'\u001b[39m\u001b[38;5;124msetting_responses\u001b[39m\u001b[38;5;124m'\u001b[39m: [\n\u001b[1;32m    416\u001b[0m             {\n\u001b[1;32m    417\u001b[0m                 \u001b[38;5;124m'\u001b[39m\u001b[38;5;124mkey\u001b[39m\u001b[38;5;124m'\u001b[39m: \u001b[38;5;124m'\u001b[39m\u001b[38;5;124muser_identifier\u001b[39m\u001b[38;5;124m'\u001b[39m,\n\u001b[1;32m    418\u001b[0m                 \u001b[38;5;124m'\u001b[39m\u001b[38;5;124mresponse_data\u001b[39m\u001b[38;5;124m'\u001b[39m: {\n\u001b[1;32m    419\u001b[0m                     \u001b[38;5;124m'\u001b[39m\u001b[38;5;124mtext_data\u001b[39m\u001b[38;5;124m'\u001b[39m: {\u001b[38;5;124m'\u001b[39m\u001b[38;5;124mresult\u001b[39m\u001b[38;5;124m'\u001b[39m: auth_info_1}\n\u001b[1;32m    420\u001b[0m                 }\n\u001b[1;32m    421\u001b[0m             }\n\u001b[1;32m    422\u001b[0m         ],\n\u001b[1;32m    423\u001b[0m         \u001b[38;5;124m'\u001b[39m\u001b[38;5;124mlink\u001b[39m\u001b[38;5;124m'\u001b[39m: \u001b[38;5;124m'\u001b[39m\u001b[38;5;124mnext_link\u001b[39m\u001b[38;5;124m'\u001b[39m\n\u001b[1;32m    424\u001b[0m     }\n\u001b[1;32m    425\u001b[0m })\n\u001b[1;32m    427\u001b[0m \u001b[38;5;28;01mif\u001b[39;00m flow\u001b[38;5;241m.\u001b[39mtask_id \u001b[38;5;241m==\u001b[39m \u001b[38;5;124m'\u001b[39m\u001b[38;5;124mLoginEnterAlternateIdentifierSubtask\u001b[39m\u001b[38;5;124m'\u001b[39m:\n\u001b[1;32m    428\u001b[0m     \u001b[38;5;28;01mawait\u001b[39;00m flow\u001b[38;5;241m.\u001b[39mexecute_task({\n\u001b[1;32m    429\u001b[0m         \u001b[38;5;124m'\u001b[39m\u001b[38;5;124msubtask_id\u001b[39m\u001b[38;5;124m'\u001b[39m: \u001b[38;5;124m'\u001b[39m\u001b[38;5;124mLoginEnterAlternateIdentifierSubtask\u001b[39m\u001b[38;5;124m'\u001b[39m,\n\u001b[1;32m    430\u001b[0m         \u001b[38;5;124m'\u001b[39m\u001b[38;5;124menter_text\u001b[39m\u001b[38;5;124m'\u001b[39m: {\n\u001b[0;32m   (...)\u001b[0m\n\u001b[1;32m    433\u001b[0m         }\n\u001b[1;32m    434\u001b[0m     })\n",
      "File \u001b[0;32m/opt/anaconda3/lib/python3.12/site-packages/twikit/utils.py:88\u001b[0m, in \u001b[0;36mFlow.execute_task\u001b[0;34m(self, *subtask_inputs, **kwargs)\u001b[0m\n\u001b[1;32m     87\u001b[0m \u001b[38;5;28;01masync\u001b[39;00m \u001b[38;5;28;01mdef\u001b[39;00m \u001b[38;5;21mexecute_task\u001b[39m(\u001b[38;5;28mself\u001b[39m, \u001b[38;5;241m*\u001b[39msubtask_inputs, \u001b[38;5;241m*\u001b[39m\u001b[38;5;241m*\u001b[39mkwargs) \u001b[38;5;241m-\u001b[39m\u001b[38;5;241m>\u001b[39m \u001b[38;5;28;01mNone\u001b[39;00m:\n\u001b[0;32m---> 88\u001b[0m     response, _ \u001b[38;5;241m=\u001b[39m \u001b[38;5;28;01mawait\u001b[39;00m \u001b[38;5;28mself\u001b[39m\u001b[38;5;241m.\u001b[39m_client\u001b[38;5;241m.\u001b[39mv11\u001b[38;5;241m.\u001b[39monboarding_task(\n\u001b[1;32m     89\u001b[0m         \u001b[38;5;28mself\u001b[39m\u001b[38;5;241m.\u001b[39mguest_token, \u001b[38;5;28mself\u001b[39m\u001b[38;5;241m.\u001b[39mtoken, \u001b[38;5;28mlist\u001b[39m(subtask_inputs), \u001b[38;5;241m*\u001b[39m\u001b[38;5;241m*\u001b[39mkwargs\n\u001b[1;32m     90\u001b[0m     )\n\u001b[1;32m     91\u001b[0m     \u001b[38;5;28mself\u001b[39m\u001b[38;5;241m.\u001b[39mresponse \u001b[38;5;241m=\u001b[39m response\n",
      "File \u001b[0;32m/opt/anaconda3/lib/python3.12/site-packages/twikit/client/v11.py:90\u001b[0m, in \u001b[0;36mV11Client.onboarding_task\u001b[0;34m(self, guest_token, token, subtask_inputs, data, **kwargs)\u001b[0m\n\u001b[1;32m     87\u001b[0m     headers[\u001b[38;5;124m\"\u001b[39m\u001b[38;5;124mx-csrf-token\u001b[39m\u001b[38;5;124m\"\u001b[39m] \u001b[38;5;241m=\u001b[39m \u001b[38;5;28mself\u001b[39m\u001b[38;5;241m.\u001b[39mbase\u001b[38;5;241m.\u001b[39m_get_csrf_token()\n\u001b[1;32m     88\u001b[0m     headers[\u001b[38;5;124m\"\u001b[39m\u001b[38;5;124mx-twitter-auth-type\u001b[39m\u001b[38;5;124m\"\u001b[39m] \u001b[38;5;241m=\u001b[39m \u001b[38;5;124m\"\u001b[39m\u001b[38;5;124mOAuth2Session\u001b[39m\u001b[38;5;124m\"\u001b[39m\n\u001b[0;32m---> 90\u001b[0m \u001b[38;5;28;01mreturn\u001b[39;00m \u001b[38;5;28;01mawait\u001b[39;00m \u001b[38;5;28mself\u001b[39m\u001b[38;5;241m.\u001b[39mbase\u001b[38;5;241m.\u001b[39mpost(\n\u001b[1;32m     91\u001b[0m     Endpoint\u001b[38;5;241m.\u001b[39mONBOARDING_TASK,\n\u001b[1;32m     92\u001b[0m     json\u001b[38;5;241m=\u001b[39mdata,\n\u001b[1;32m     93\u001b[0m     headers\u001b[38;5;241m=\u001b[39mheaders,\n\u001b[1;32m     94\u001b[0m     \u001b[38;5;241m*\u001b[39m\u001b[38;5;241m*\u001b[39mkwargs\n\u001b[1;32m     95\u001b[0m )\n",
      "File \u001b[0;32m/opt/anaconda3/lib/python3.12/site-packages/twikit/client/client.py:215\u001b[0m, in \u001b[0;36mClient.post\u001b[0;34m(self, url, **kwargs)\u001b[0m\n\u001b[1;32m    213\u001b[0m \u001b[38;5;28;01masync\u001b[39;00m \u001b[38;5;28;01mdef\u001b[39;00m \u001b[38;5;21mpost\u001b[39m(\u001b[38;5;28mself\u001b[39m, url, \u001b[38;5;241m*\u001b[39m\u001b[38;5;241m*\u001b[39mkwargs) \u001b[38;5;241m-\u001b[39m\u001b[38;5;241m>\u001b[39m \u001b[38;5;28mtuple\u001b[39m[\u001b[38;5;28mdict\u001b[39m \u001b[38;5;241m|\u001b[39m Any, Response]:\n\u001b[1;32m    214\u001b[0m     \u001b[38;5;124m'\u001b[39m\u001b[38;5;124m:meta private:\u001b[39m\u001b[38;5;124m'\u001b[39m\n\u001b[0;32m--> 215\u001b[0m     \u001b[38;5;28;01mreturn\u001b[39;00m \u001b[38;5;28;01mawait\u001b[39;00m \u001b[38;5;28mself\u001b[39m\u001b[38;5;241m.\u001b[39mrequest(\u001b[38;5;124m'\u001b[39m\u001b[38;5;124mPOST\u001b[39m\u001b[38;5;124m'\u001b[39m, url, \u001b[38;5;241m*\u001b[39m\u001b[38;5;241m*\u001b[39mkwargs)\n",
      "File \u001b[0;32m/opt/anaconda3/lib/python3.12/site-packages/twikit/client/client.py:186\u001b[0m, in \u001b[0;36mClient.request\u001b[0;34m(self, method, url, auto_unlock, raise_exception, **kwargs)\u001b[0m\n\u001b[1;32m    184\u001b[0m message \u001b[38;5;241m=\u001b[39m \u001b[38;5;124mf\u001b[39m\u001b[38;5;124m'\u001b[39m\u001b[38;5;124mstatus: \u001b[39m\u001b[38;5;132;01m{\u001b[39;00mstatus_code\u001b[38;5;132;01m}\u001b[39;00m\u001b[38;5;124m, message: \u001b[39m\u001b[38;5;124m\"\u001b[39m\u001b[38;5;132;01m{\u001b[39;00mresponse\u001b[38;5;241m.\u001b[39mtext\u001b[38;5;132;01m}\u001b[39;00m\u001b[38;5;124m\"\u001b[39m\u001b[38;5;124m'\u001b[39m\n\u001b[1;32m    185\u001b[0m \u001b[38;5;28;01mif\u001b[39;00m status_code \u001b[38;5;241m==\u001b[39m \u001b[38;5;241m400\u001b[39m:\n\u001b[0;32m--> 186\u001b[0m     \u001b[38;5;28;01mraise\u001b[39;00m BadRequest(message, headers\u001b[38;5;241m=\u001b[39mresponse\u001b[38;5;241m.\u001b[39mheaders)\n\u001b[1;32m    187\u001b[0m \u001b[38;5;28;01melif\u001b[39;00m status_code \u001b[38;5;241m==\u001b[39m \u001b[38;5;241m401\u001b[39m:\n\u001b[1;32m    188\u001b[0m     \u001b[38;5;28;01mraise\u001b[39;00m Unauthorized(message, headers\u001b[38;5;241m=\u001b[39mresponse\u001b[38;5;241m.\u001b[39mheaders)\n",
      "\u001b[0;31mBadRequest\u001b[0m: status: 400, message: \"{\"errors\":[{\"code\":399,\"message\":\"Sorry, we kunnen je account niet vinden. g;175149599967329584:-1751495999813:pVGCLfpsfvaGSIiObfQUJgyX:1\"}]}\""
     ]
    }
   ],
   "source": [
    "async def test(session, user_id):\n",
    "    try:\n",
    "        tweets_replies = await session.get_profile_tweets_raw(user_id)\n",
    "        tweet_ids = session.get_ordered_tweet_ids(tweets_replies)\n",
    "        replied_ids = []\n",
    "        for tid in tweet_ids:\n",
    "            if tweets_replies[\"globalObjects\"][\"tweets\"][tid][\"reply_count\"] > 0 and tweets_replies[\"globalObjects\"][\"tweets\"][tid][\"user_id_str\"] == user_id:\n",
    "                replied_ids.append(tid)\n",
    "\n",
    "        for tid in replied_ids:\n",
    "            tweet = await session.tweet_raw(tid)\n",
    "            for reply_id, reply_obj in tweet[\"globalObjects\"][\"tweets\"].items():\n",
    "                if reply_id == tid or reply_obj.get(\"in_reply_to_status_id_str\", None) != tid:\n",
    "                    continue\n",
    "                reply_tweet = await session.tweet_raw(reply_id)\n",
    "                if reply_id not in reply_tweet[\"globalObjects\"][\"tweets\"]:\n",
    "                    continue\n",
    "                obj = {\"tweet\": tid, \"reply\": reply_id}\n",
    "                if tid in reply_tweet[\"globalObjects\"][\"tweets\"]:\n",
    "                    obj[\"ban\"] = False\n",
    "                else:\n",
    "                    obj[\"ban\"] = True\n",
    "                return obj\n",
    "    except:\n",
    "        log.error('Unexpected Exception:')\n",
    "        log.error(traceback.format_exc())\n",
    "        return { \"error\": \"EUNKNOWN\" }\n",
    "\n",
    "async def main():\n",
    "    client = Client()\n",
    "    await client.login(\n",
    "        auth_info_1=\"wendyzh####\",\n",
    "        password=\"###\",\n",
    "        auth_info_2=None,\n",
    "        totp_secret=None\n",
    "    )\n",
    "    print(\"Log in successfully\")\n",
    "\n",
    "    user_info = await client.get_user(\"Starlink\")\n",
    "    user_id = user_info[\"id_str\"]\n",
    "\n",
    "    result = await test(client, user_id)\n",
    "    print(\"Test result:\", result)\n",
    "\n",
    "if __name__ == \"__main__\":\n",
    "    asyncio.run(main())"
   ]
  },
  {
   "cell_type": "code",
   "execution_count": null,
   "id": "91b9f6ac-8f10-407b-b7ce-7d9913a1b19f",
   "metadata": {},
   "outputs": [],
   "source": []
  }
 ],
 "metadata": {
  "kernelspec": {
   "display_name": "Python 3 (ipykernel)",
   "language": "python",
   "name": "python3"
  },
  "language_info": {
   "codemirror_mode": {
    "name": "ipython",
    "version": 3
   },
   "file_extension": ".py",
   "mimetype": "text/x-python",
   "name": "python",
   "nbconvert_exporter": "python",
   "pygments_lexer": "ipython3",
   "version": "3.12.2"
  }
 },
 "nbformat": 4,
 "nbformat_minor": 5
}
