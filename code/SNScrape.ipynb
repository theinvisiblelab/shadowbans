{
 "cells": [
  {
   "cell_type": "markdown",
   "id": "0de001bb-e3b8-46ec-a706-49865792f2ea",
   "metadata": {},
   "source": [
    "## SNScrape Test"
   ]
  },
  {
   "cell_type": "code",
   "execution_count": null,
   "id": "3bf0268f-d8aa-4bcc-af4b-ee81a124e105",
   "metadata": {},
   "outputs": [],
   "source": [
    "!pip install snscrape"
   ]
  },
  {
   "cell_type": "code",
   "execution_count": null,
   "id": "acdb2743-db8d-46f4-a424-24cecc7b3dad",
   "metadata": {},
   "outputs": [],
   "source": [
    "import snscrape.modules.twitter as sntwitter\n",
    "import pandas as pd\n",
    "\n",
    "username = \"StateDept\"\n",
    "max_tweets = 100\n",
    "\n",
    "tweets = []\n",
    "\n",
    "for i, tweet in enumerate(sntwitter.TwitterUserScraper(username).get_items()):\n",
    "    if i >= max_tweets:\n",
    "        break\n",
    "    tweets.append({\n",
    "        'date': tweet.date,\n",
    "        'id': tweet.id,\n",
    "        'content': tweet.content,\n",
    "        'url': tweet.url,\n",
    "        'retweetCount': tweet.retweetCount,\n",
    "        'likeCount': tweet.likeCount,\n",
    "        'replyCount': tweet.replyCount,\n",
    "        'lang': tweet.lang\n",
    "    })\n",
    "\n",
    "df = pd.DataFrame(tweets)\n",
    "\n",
    "print(df.head())"
   ]
  },
  {
   "cell_type": "code",
   "execution_count": null,
   "id": "21c29727-2239-4ec9-8721-6f7c22a705a0",
   "metadata": {},
   "outputs": [],
   "source": []
  },
  {
   "cell_type": "code",
   "execution_count": null,
   "id": "2bbc178f-3d00-460d-8db2-3c0e5c94866e",
   "metadata": {},
   "outputs": [],
   "source": []
  }
 ],
 "metadata": {
  "kernelspec": {
   "display_name": "snscrape (py3.9)",
   "language": "python",
   "name": "snscrape-env"
  },
  "language_info": {
   "codemirror_mode": {
    "name": "ipython",
    "version": 3
   },
   "file_extension": ".py",
   "mimetype": "text/x-python",
   "name": "python",
   "nbconvert_exporter": "python",
   "pygments_lexer": "ipython3",
   "version": "3.9.23"
  }
 },
 "nbformat": 4,
 "nbformat_minor": 5
}
