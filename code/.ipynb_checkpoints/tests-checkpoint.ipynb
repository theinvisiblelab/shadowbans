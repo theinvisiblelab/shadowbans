{
 "cells": [
  {
   "cell_type": "code",
   "execution_count": 1,
   "id": "83e475f4-d945-470d-9cfd-469b2c7a16d6",
   "metadata": {
    "scrolled": true
   },
   "outputs": [
    {
     "data": {
      "text/plain": [
       "True"
      ]
     },
     "execution_count": 1,
     "metadata": {},
     "output_type": "execute_result"
    }
   ],
   "source": [
    "import os\n",
    "from dotenv import load_dotenv\n",
    "from instagrapi import Client\n",
    "\n",
    "# Load environment variables from .env file\n",
    "load_dotenv()\n",
    "\n",
    "USERNAME = os.getenv(\"INSTAGRAM_USERNAME\")\n",
    "PASSWORD = os.getenv(\"INSTAGRAM_PASSWORD\")\n",
    "\n",
    "cl = Client()\n",
    "cl.login(USERNAME, PASSWORD)"
   ]
  },
  {
   "cell_type": "code",
   "execution_count": 2,
   "id": "a7e64de9-c9ed-42ff-98db-7c249fde558f",
   "metadata": {},
   "outputs": [
    {
     "name": "stdout",
     "output_type": "stream",
     "text": [
      "['amsterdam.encampment', 'free.palestine.nl', 'dutchscholarsforpalestine', 'p.g.n.l', 'nationalsjp', 'plant.eenolijfboom', 'middleeasteye', 'cambridgeforpalestine', 'workersforpalestine.nl', 'utrecht4palestine', 'bds_nederland', 'europe.palestine.network', 'artsenvoorgaza', 'revolutionaireeenheid', 'studentsforpalestine', 'letstalkpalestine', 'erevravnl', 'aljazeeraenglish', 'flyers_for_falastin', 'rollingforpalestine', 'palestinesolidarityrotterdam', 'vakbondsolidairmetpalestina', 'xr.justicenow', 'bds.movement', 'brusselsagainstgenocide']\n"
     ]
    }
   ],
   "source": [
    "usernames_v1 = [\n",
    "    \"amsterdam.encampment\",\n",
    "    \"free.palestine.nl\",\n",
    "    \"dutchscholarsforpalestine\",\n",
    "    \"p.g.n.l\",\n",
    "    \"nationalsjp\",\n",
    "    \"plant.eenolijfboom\",\n",
    "    \"middleeasteye\",\n",
    "    \"cambridgeforpalestine\",\n",
    "    \"workersforpalestine.nl\",\n",
    "    \"utrecht4palestine\",\n",
    "    \"bds_nederland\",\n",
    "    \"europe.palestine.network\",\n",
    "    \"artsenvoorgaza\",\n",
    "    \"revolutionaireeenheid\",\n",
    "    \"studentsforpalestine\",\n",
    "    \"letstalkpalestine\",\n",
    "    \"erevravnl\",\n",
    "    \"aljazeeraenglish\",\n",
    "    \"flyers_for_falastin\",\n",
    "    \"rollingforpalestine\",\n",
    "    \"palestinesolidarityrotterdam\",\n",
    "    \"vakbondsolidairmetpalestina\",\n",
    "    \"xr.justicenow\",\n",
    "    \"bds.movement\",\n",
    "    \"brusselsagainstgenocide\"\n",
    "]\n",
    "\n",
    "print(usernames_v1)"
   ]
  },
  {
   "cell_type": "code",
   "execution_count": 3,
   "id": "9cd9822b-c6f4-4f4d-9e44-225fde1844ad",
   "metadata": {},
   "outputs": [
    {
     "name": "stdout",
     "output_type": "stream",
     "text": [
      "['cidi_nieuws', 'israellycool_', 'jewylouiscomics', 'israelinnl', 'isr.fa', 'israelinireland', 'israelinmontreal', 'cominghomesoon.online', 'israelisabroad.wzo', 'israelwarroom', 'eyalyakoby', 'afshineemrani', 'peacecomms', 'jewishagency', 'bringofirhome', 'eylonalevy', 'howcoolisrael', 'christenenvoorisrael', 'isrealitynl', 'christenanderseiteisraels']\n"
     ]
    }
   ],
   "source": [
    "usernames_v2 = [\n",
    "    \"cidi_nieuws\",\n",
    "    \"israellycool_\",\n",
    "    \"jewylouiscomics\",\n",
    "    \"israelinnl\",\n",
    "    \"isr.fa\",\n",
    "    \"israelinireland\",\n",
    "    \"israelinmontreal\",\n",
    "    \"cominghomesoon.online\",\n",
    "    \"israelisabroad.wzo\",\n",
    "    \"israelwarroom\",\n",
    "    \"eyalyakoby\",\n",
    "    \"afshineemrani\",\n",
    "    \"peacecomms\",\n",
    "    \"jewishagency\",\n",
    "    \"bringofirhome\",\n",
    "    \"eylonalevy\",\n",
    "    \"howcoolisrael\",\n",
    "    \"christenenvoorisrael\",\n",
    "    \"isrealitynl\",\n",
    "    \"christenanderseiteisraels\"\n",
    "]\n",
    "\n",
    "print(usernames_v2)"
   ]
  },
  {
   "cell_type": "code",
   "execution_count": null,
   "id": "6af2173c-0bf8-4583-9b08-b5847a35c576",
   "metadata": {},
   "outputs": [],
   "source": [
    "# Target public Instagram profile\n",
    "TARGET_USERNAME = \"amsterdam.encampment\"\n",
    "\n",
    "# Get user ID\n",
    "user_id = cl.user_id_from_username(TARGET_USERNAME)\n",
    "\n",
    "# Get Full List of Followers\n",
    "followers = cl.user_followers(user_id, amount=50)  # amount=0 fetches all\n",
    "followers_list = [user.username for user in followers.values()]\n",
    "\n",
    "# Get Full List of Followees\n",
    "followees = cl.user_following(user_id, amount=50)\n",
    "followees_list = [user.username for user in followees.values()]\n",
    "\n",
    "# Get User's Recent Posts\n",
    "posts = cl.user_medias(user_id, amount=3)  # Fetch last 3 posts\n",
    "\n",
    "# Extract Likes & Comments for each post\n",
    "post_data = []\n",
    "for post in posts:\n",
    "    media_id = post.id\n",
    "    post_url = f\"https://www.instagram.com/p/{post.code}/\"\n",
    "\n",
    "    # Get Likes\n",
    "    likes = cl.media_likers(media_id)\n",
    "    likes_list = [user.username for user in likes]\n",
    "\n",
    "    # Get Comments\n",
    "    comments = cl.media_comments(media_id)\n",
    "    comments_list = [comment.text for comment in comments]\n",
    "\n",
    "    post_data.append({\n",
    "        \"post_url\": post_url,\n",
    "        \"likes_count\": len(likes_list),\n",
    "        \"likes\": likes_list,\n",
    "        \"comments_count\": len(comments_list),\n",
    "        \"comments\": comments_list\n",
    "    })"
   ]
  },
  {
   "cell_type": "code",
   "execution_count": null,
   "id": "2f24856b-14d6-437e-8eca-fcebdd14b51c",
   "metadata": {},
   "outputs": [],
   "source": []
  },
  {
   "cell_type": "code",
   "execution_count": 8,
   "id": "6efabf45-9747-4717-8104-ffbbf8ea84b5",
   "metadata": {},
   "outputs": [
    {
     "name": "stdout",
     "output_type": "stream",
     "text": [
      "Followers: ['juanatriana16', 'gunsangsuantak', 'saplingrootz', 'donatracy1', 'stillsickntiredx_x', 'tyler.wiers.1276', 'zaffbam', 'liz4deano', 'xtremrady', 'katie_love_you09', 'nedaa_and_dughater_tala', 'faulkner0g', 'palestinecoalitionmaastricht', 'sierradennis.828', 'terryturner1977ya', 'catrice2755', 'kakuk.panni', 'staceeemj', 'onsystematisch', 'abezlst', 'therealemmavos', '_ambervooijs_', 'ray.lewis85', 'tomvanbunnik', 'coleone_86', 'pako_waaccoo', 'lyndrumentertainment', 'saramouissa', 'kaylaerivers', 'kuadrog', 'reemmohd07freepalestine', '81pye', 'grindin_gears_auto_l.l.c', '0mar_ingaza', 'yltania305', 'deeleeryum', 'juelzluna', 'sfp.gazafundraiser', 'somoist', 'briceandrewcook', 'hilma.abdou', 'vanessamiller2188', 'kefasempre', 'smuccie', 'julie.henriette', 'coroid_94', 'tu11ius', 'adronetrying', 'ryot_ry', 'nova.a.x.h']\n"
     ]
    }
   ],
   "source": [
    "print(\"Followers:\", followers_list)"
   ]
  },
  {
   "cell_type": "code",
   "execution_count": null,
   "id": "00ba81ac-9226-4737-9df3-d1143c61c721",
   "metadata": {},
   "outputs": [],
   "source": []
  },
  {
   "cell_type": "code",
   "execution_count": 9,
   "id": "99ef5582-3df7-4220-9200-8ab24562acdb",
   "metadata": {},
   "outputs": [
    {
     "name": "stdout",
     "output_type": "stream",
     "text": [
      "Followees: ['leftlaser', 'veto.oorlog', 'kakelversememes', 'palestinetilburg', 'delft_student_intifada', 'aufreepalestine', 'jewishantizionistnetwork', 'amsterdamautonomouscoalition', 'utrecht4palestine', 'xr.justicenow', 'cambridgeforpalestine', 'almereforpalestine', 'nationalsjp', 'rotterdamencampment', 'dutchscholarsforpalestine', 'vakbondsolidairmetpalestina', 'dianasalaymah', 'freepalestine.maastricht', 'cheap_dirty_horse', 'plant.eenolijfboom', 'kanaleneiland4palestine', 'encampment.rug', 'vuforpalestine', 'linksinhetnieuws', 'aljazeeraenglish', 'maastricht.encampment', 'mayanoraa', 'occupyeur', 'politieke_jongeren', 'uva.intifada', 'motaz_azaiza', 'amersfoort4palestine', 'eindhoven.encampment', 'hva4palestine', 'eye.on.palestine', 'endfossilgent', 'middleeasteye', 'letstalkpalestine', 'adreneline', 'krolien', 'wizard_bisan1', 'revolutionaireeenheid', 'ah_apartheidvrij', 'gratis_saaf_voor_iedereen', 'mokumkraakt', 'orca_amsterdam', 'rotterdam.encampment', 'studentsforpalestine', 'allegedlydawntjeshannon', 'shellmustfall']\n"
     ]
    }
   ],
   "source": [
    "print(\"Followees:\", followees_list)"
   ]
  },
  {
   "cell_type": "code",
   "execution_count": null,
   "id": "1ccb2724-67d9-4d79-9ddc-436ee08d59f8",
   "metadata": {},
   "outputs": [],
   "source": []
  },
  {
   "cell_type": "code",
   "execution_count": 10,
   "id": "93c61b4e-d248-4ae2-a66e-899c8ef841a5",
   "metadata": {},
   "outputs": [
    {
     "name": "stdout",
     "output_type": "stream",
     "text": [
      "\n",
      "\n",
      "Post: https://www.instagram.com/p/DCWg61cMaD8/\n",
      "\n",
      "Likes: 97, \n",
      "Likers: ['itsmepat.t', 'eefdekorte', 'lucylente', 'nino_jovicinac', 'gabrielalvalle', 'anneuvw', 'vera.baggins', 'mirah.7adam', 'fiteqlub_', 'casinowillms', 'activismintheflesh', 'daidumusic', 'elliot_charrua', 'jobame94', 'virjanand2', 'dennevanmeijeren', 'linopae', 'alexandragalateia', 'goldenboybumaye', 'crocorudolph', 'zinkathezinzilla', 'niekolasj', 'l_fontino', 'shayzwaneveld', 'mr_king_charan_143', 'aloosh.baloosh', 'redpeanutseed__', 'mxac.elhb', 'kostume_popullore_origjinale', 'agneseferrante', 'nb_atii', 'teegs3', 'nabil.030_', 'dominiquevandesteeg', 'mmg9873', 'alexisnotaloseriswear', 'khaledd.pali', 'ophelia.cymbeline', 'incredible.lina', 'rido.jansen1', 'maaiketralala', 'p1zz.jpeg', 'kristaal.pt2', 'soofpot', 'ninachtmerrie', 'su_.pal', 'spixpam', 'fabiolahaalboom', 'giulia10449', 'bustielatish', 'lsjywvr', 'fakehumansofppe', 'matheus8d', 'bonfire.tanzir', 'donnywiththelight', 'susannevaneps', 'marleenbds', 'actievoorklimaat', 'delusyonal', 'lonnyjeggett', 'thatssolindas', 'superjazzygirl', 'ryanazada', 'neda_gleda', 'postdao', 'eratovaitsi', 'xrguerrillafashion', 'leuleuluka', 'maonumak0', 'romaysamm', 'thijsfrauenfelder1', 'muiterij_', 'maelys._.cns', 'micha_abc', 'zorina3011', '_ash_killer_of_your_dreams', 'fa.t.john', 'mart.vd', 'thors_snorreson_proud_father', 'nadiamurady', 'j.fletcher27', 'sarathabella', 'a.mirahrah', 'jesseblaauw___', 'naures.alsalem', 'fralionetti', 'rosita.b_', 'graadyeah', 'medeine_val', '_sabster_', 'nessiestent', 'mareinoosterveld', 'laketarenta23', 'nafadanyc', 'breinkortsluiting', 'emre_abisan', 'nooorttjee']\n",
      "\n",
      "Comment count: 20, \n",
      "Comments: ['@helenedevosss dont be silly', 'huilie huilie?', \"What does not safe mean? There's a genocide happening some km away. It's not safe for the protesters because police are hitting them. If the riot police weren't there the protests would be 100% safe. When people want to protest its their legal right to do so . Denying that right is just fascism. The mayor can always find stupid reasons to call off protests.\", '@george.athanasiou2 check me @dianasalaymah and @rollingforpalestine our pages to see the recent events that happened since the Macabi hooligans came. You will understand the timeline but not why our rights have been violated. You will see fascism and what happened when the Dutch let the Israelis come and handle the situation.', '@zwartenin we did it. You can check it :)', 'There is not always an option to film it. But you have to write it down too. Film doesnt get everything. Write it down for yourself, to keep all the details. You will forget over time otherwise. You dont HAVE to make it public per se, but it will be useful to have, if you decide to do something with it. The sooner you write it down, the more details you remember. It is important.', \"@ultimatesoulscraper You're completely right and these people forget it when they are the ones protesting. I'm all for the protest but just do it when it's safe.\", \"@zwartenin Don't write it down. Film it. Written testimony is useless when you have no actual proof.\", \"@hollandtara2020 You can't call the Netherlands democratic 😂. Have you seen what oppressors were voted for and they think the same as in the US now?\", \"@hollandtara2020 Great do that after the ban is lifted and don't destroy trams because Maccabi incited it...\", \"@george.athanasiou2 When things get dangerous the mayor has the right to ban protests until it is deemed safe again. It's been a few days at most and it is definitely not safe. There were multiple teams destroyed and they keep blaming the inciting of violence by Maccabi... I don't get why people would want to destroy their own city for foreign soccer fans that probably already left...\", 'Dit is toch Niet Normaal …  Wat Een Circus 🎪 Als we niet Als Volk Als Een Opstaan Tegen Dit Onrecht …. Hoe kunnen we onszelf dan nog in de spiegel aankijken … 😮😢', '@ultimatesoulscrapdishow do you feel about a country ignoring international law, the geneva Convention,  international humanitarian law, and so on?', 'Also, write down what happened. Details get lost over time.', 'LOVE SEEING THIS WELL THOUGHT OUT ORGANIZATION! I hope other activist groups take note!', 'Thank you 👏🏽👏🏽👏🏽👏🏽👏🏽', 'Halsema! Je moet je politie in de hand houden of je burgermeesterschap opzeggen.', '@ultimatesoulscraper do you believe you live in a democratic country Or Afghanistan?', \"@ultimatesoulscraper Human rights cover virtually every area of human activity. They include civil and political rights, which refer to a person's rights to take part in the civil and political life of their community without discrimination or oppression.\", \"Human rights cover virtually every area of human activity. They include civil and political rights, which refer to a person's rights to take part in the civil and political life of their community without discrimination or oppression.\"]\n",
      "\n",
      "\n",
      "Post: https://www.instagram.com/p/DFsyarOI7Fr/\n",
      "\n",
      "Likes: 52, \n",
      "Likers: ['thezombiunicorn', 'r0bin__04', 'kca_sert27', 'openglassroom', 'citlaliconjurer', 'digitalaudiotape', 'materialstargirl', 'izzyofalltrades', 'feministasenholanda', 'sineadwv', 'katlyn___91', 'erik_je', 'laurathodeart', 'allyshaaaaa', 'theatreofwrongdecisions', 'amsterdam4palestine', 'yusuf_karakaya1', 'rollingforpalestine', 'paulnmatthis', 'chrisrusch', 'tiktaktoktik', 'doikayt_', 'delft_student_intifada', 'justice_and_relief', 'caspar__l', 'l_fontino', 'niks_nopesnada', 'vanessabruenn', 'karimelaminnn', 'curlyfriedart', 'thesurgenl', 'nouhaila_etta', 'elwaroso', 'sissivandeput', 'amsterdam.encampment', 'megsintheclouds', 'enschedestudentsforpalestine', 'support_lailasfamily', '_j_nn_f_r_', 'shaan.holistics', 'leidenscholarsforpalestine', 'imperfectactivista', 'rami.stt99', 'paulgroothuis', 'platformstopracisme_', 'dorgham_quraiqi', 'roelkleinhans', 'elize_stroomberg', 'a.doorakkers', 'killertoasterjamsandwich', 'iamthedavey', 'spindialem']\n",
      "\n",
      "Comment count: 1, \n",
      "Comments: ['💜✨']\n",
      "\n",
      "\n",
      "Post: https://www.instagram.com/p/DFsIA1Du3Oo/\n",
      "\n",
      "Likes: 88, \n",
      "Likers: ['kakelversememes', 'teamlaatgazaleven', 'zaankanters4palestine', 'zapiens.art', 'da.an647', 'globalintifada2024', 'chameshi.54', 'curlyfriedart', 'saarbandjess', 'lanile', 'emi.mp3', 'ssnw.r', 'kai_kohen', 'jakarta.fanatic', '_photonyx_', 'tirzathinks', 'adreneline', 'ilaydahagens', 'amiinab_', 'retuak', 'amina_kimberley', 'jessiejessyg', 'dearsamira', 'rezz.z24', 'pieterpunk', 'ilhame_na', 'bintfalastinee', 'pimpelrm', 'less_comfort_more_courage', 'goudaforpalestine', 'suzevanworkum', 'cherie_warda', 'mika.f.lego', 'tawheednazir', 'oneliahelene', 'leynaimran2024', 'jawadissekssioui', 'l_fontino', 'enige.tom', 'bobajamila', 'helenasluijk', 'kca_sert27', 'camila.tranquila', 'laurynvanleeuwen', 'mck.ash', 'orfeas_tz', 'ashoorrami', 'willem.m.m', 'erikv_v_h', 'mierjelle', 'no__gods__no__masters', 'feneliapeters', 'bru.delaselva', 'kingsize_kengo', 'elize_stroomberg', 'a.doorakkers', 'nouhaila_etta', 'marjoleinossewaarde', 'yusufziyayok', 'emielderckx', 'natalia___szymanska', 'oetamabrahami', 'loisvangalenlast', 'aronboiten', 'ne3ne3the3', 'maxvanhassel', 'michaelbreems99', 'sas.c69', '_mirayalpsoy', 'charlz1575', 'mono.32111', 'niels__3', 'amybaloo', 'ileansilver20', 'farahme33', 'nabiel.rk', 'mmmmmmmahmad', 'ismaelismaa', 'arda_mha', 'soof.sofia', 'karimelaminnn', 'tug.sahin', 'tsunamiroy', 'lourin_garguet', 'simonv.laar', 'wolforpion', 'vincentsmeding', 'shadowbooster']\n",
      "\n",
      "Comment count: 8, \n",
      "Comments: ['🔥🔥🔥🔥🔥', '🔥', '@lalehamirali sweetiestrijders!', '🔥🔥🔥🔥', '🔥🔥🔥🔥🔥🔥🔥', 'De sweethearts dachten ik laat dit niet rusten', '🔻🔻🔻', '🔥🔥🔥']\n"
     ]
    }
   ],
   "source": [
    "for post in post_data:\n",
    "    print(f\"\\n\\nPost: {post['post_url']}\")\n",
    "    print(f\"\\nLikes: {post['likes_count']}, \\nLikers: {post['likes']}\")\n",
    "    print(f\"\\nComment count: {post['comments_count']}, \\nComments: {post['comments']}\")"
   ]
  },
  {
   "cell_type": "code",
   "execution_count": null,
   "id": "503cf605-e328-4490-869d-12c80f00cfb0",
   "metadata": {},
   "outputs": [],
   "source": []
  },
  {
   "cell_type": "code",
   "execution_count": null,
   "id": "471c9a3b-732c-4a7e-a470-e162eb6babc7",
   "metadata": {},
   "outputs": [],
   "source": []
  },
  {
   "cell_type": "code",
   "execution_count": 11,
   "id": "5d0dca8b-5536-4a80-af1e-97e1642e374c",
   "metadata": {},
   "outputs": [],
   "source": [
    "# Target zionist profile\n",
    "TARGET_USERNAME = \"israellycool_\"\n",
    "\n",
    "# Get user ID\n",
    "user_id = cl.user_id_from_username(TARGET_USERNAME)\n",
    "\n",
    "# Get Full List of Followers\n",
    "followers = cl.user_followers(user_id, amount=50)  # amount=0 fetches all\n",
    "followers_list = [user.username for user in followers.values()]\n",
    "\n",
    "# Get Full List of Followees\n",
    "followees = cl.user_following(user_id, amount=50)\n",
    "followees_list = [user.username for user in followees.values()]\n",
    "\n",
    "# Get User's Recent Posts\n",
    "posts = cl.user_medias(user_id, amount=3)  # Fetch last 3 posts\n",
    "\n",
    "# Extract Likes & Comments for each post\n",
    "post_data = []\n",
    "for post in posts:\n",
    "    media_id = post.id\n",
    "    post_url = f\"https://www.instagram.com/p/{post.code}/\"\n",
    "\n",
    "    # Get Likes\n",
    "    likes = cl.media_likers(media_id)\n",
    "    likes_list = [user.username for user in likes]\n",
    "\n",
    "    # Get Comments\n",
    "    comments = cl.media_comments(media_id)\n",
    "    comments_list = [comment.text for comment in comments]\n",
    "\n",
    "    post_data.append({\n",
    "        \"post_url\": post_url,\n",
    "        \"likes_count\": len(likes_list),\n",
    "        \"likes\": likes_list,\n",
    "        \"comments_count\": len(comments_list),\n",
    "        \"comments\": comments_list\n",
    "    })"
   ]
  },
  {
   "cell_type": "code",
   "execution_count": null,
   "id": "2c6a9773-d615-4267-95c2-5961f478625a",
   "metadata": {},
   "outputs": [],
   "source": []
  },
  {
   "cell_type": "code",
   "execution_count": 12,
   "id": "770f1797-8369-4f4d-a21a-fa3780cd76e7",
   "metadata": {},
   "outputs": [
    {
     "name": "stdout",
     "output_type": "stream",
     "text": [
      "Followers: ['aidan_pronounced_aidon', 'alys2906', 'yourlondonlegacy', 'standuptoracismnorth.norfolk', 'zionistmediagroup', 'zman_chai', 'noahafek', 'jordanakleinart', 'yisraelofficial', 'pop37679', 'nikki_kohn', 'shoula_cohen', 'pearlpeller', 'kbgrsi', 'lisa_alyson_8', 'leeisalostboy', 'its.more.than.just.food_', 'elievictorsoffer', 'antisemitismfiles', 'apachemenswear', 'lucyj89', 'justiceisrael_', 'kikkiburger', 'jakeinfocus', 'suchamensch', 'nicnork', 'joeyudin', 'danu_ginger', 'carolinemarcus', 'proud_to_be_jewish_', 'warriorrabbi', 'aryeh.green', 'iwantaliyah', 'rob_nachum', 'hadden9800', 'amysuesilcoff', 'gardnerfredric', 'run_this_body_', 'australia4israel', 'sean_abs75', 'shalvah_mbmd', 'markshapiroarchitects', 'dani.uk.aus', 'idfstef', 'zeevzafrin', 'sansuhlavander', 'steffie_fern', 'amelia.eatwelltraveloften', 'luna_dancewme', 'rubin.mike']\n"
     ]
    }
   ],
   "source": [
    "print(\"Followers:\", followers_list)"
   ]
  },
  {
   "cell_type": "code",
   "execution_count": null,
   "id": "e38d0c7f-2c78-48fa-9961-86681928e501",
   "metadata": {},
   "outputs": [],
   "source": []
  },
  {
   "cell_type": "code",
   "execution_count": 13,
   "id": "6415ee3a-4094-4ffa-8b3f-3a61f7c9d35c",
   "metadata": {},
   "outputs": [
    {
     "name": "stdout",
     "output_type": "stream",
     "text": [
      "Followees: ['seethegood_now', 'oneglobalvoice', 'selenaryan', 'eitanchitayat_words', 'theviraggulyas', 'sharrimarkson', 'remembering_kasa', 'gambottoburke', 'carolinemarcus', 'themossadil_', 'barzel.media', 'dananamerode', 'talia.eilat', 'elongold', 'physiciansagainstantisemitism2', 'davidmdraiman', 'blacknjewish', 'noacochva', 'mahamid_y', 'thetravelingclatt', 'barbiepascuall', 'mybeautifullandofisrael', 'zionistmediagroup', 'kasimhafeez22', 'yochy11', 'makersofisrael', 'samantha_inisrael', 'ozraeliaviyemini', 'bellerose.ryan', 'melissaschapman', 'the.lions.of.zion', 'carolinedamore', 'markrosspelle', 'eden___lange', 'adamscottbellos_', 'howardfeldman.hf', 'fiveforfightingmusic', 'aryeh.green', 'nazhashem26', 'debin1818', 'elianajolkovsky', '_hadas.lange_', 'ariteman', 'perspectivesjf', 'michadanzig', 'odelya_halevi_', 'rosesuzy', 'caaa.2000', 'laurars13', '_maya.lange_']\n"
     ]
    }
   ],
   "source": [
    "print(\"Followees:\", followees_list)"
   ]
  },
  {
   "cell_type": "code",
   "execution_count": null,
   "id": "c6641851-4b0b-43df-a91a-9e5b75857ea6",
   "metadata": {},
   "outputs": [],
   "source": []
  },
  {
   "cell_type": "code",
   "execution_count": 14,
   "id": "c84e8ed1-9bf3-4b58-a694-e46031337307",
   "metadata": {},
   "outputs": [
    {
     "name": "stdout",
     "output_type": "stream",
     "text": [
      "\n",
      "\n",
      "Post: https://www.instagram.com/p/DFuye-3NfU_/\n",
      "\n",
      "Likes: 24, \n",
      "Likers: ['shimon29055', 'ariteman', 'rotem.se', 'marlzhp', 'aidan_pronounced_aidon', 'jen.kelvin', 'leeisalostboy', 'karburatorliza', 'paul.bernard_', 'neal.abrams613', 'avigayilpollak', 'tarzibell', 'shailemery_.10', 'melissaschapman', 'halina_rubenstein', 'stevedgrossman', 'becalau', 'laurars13', 'epochtailoring', 'liemohanaa', 'rosesuzy', 'harrysbaked', 'deashmulewitz', '_maya.lange_']\n",
      "\n",
      "Comment count: 6, \n",
      "Comments: [\"They maybe cheaper in Australia, but at least they're kosher in Israel!\", '😋', '@harrysbaked my bad for even questioning you!', '@israellycool_ Of course. I’ve had all varieties available in Israel.', 'have you tried the regular?', 'I’ve always wanted to try the chocolate mint.']\n",
      "\n",
      "\n",
      "Post: https://www.instagram.com/p/DFpHB6Ttch3/\n",
      "\n",
      "Likes: 41, \n",
      "Likers: ['gigiedinburgh', 'kasimhafeez22', 'israelforeverfoundation', 'neal.abrams613', '_hadas.lange_', '_batsarah_efrat', 'balanceisnotonesided', 'melissaschapman', 'janettelange', 'howardfeldman.hf', 'jodisaidit', 'schneidermadmony', 'laurars13', 'emmabyre1', 'ashman8181', 'pbv_obviously', 'paushalilass', 'mitcharno', 'rolene_marks', 'eden___lange', 'tedeytan', 'mybeautifullandofisrael', 'starsofdavidpod', 'lackboys3', 'hopeandflowers2023', 'danshap18', 'brianbachner', 'patricialackner', 'mikepack714', 'eitanchitayat_words', 'kelevs_ema', 'michaelw0116', 'tarzibell', 'civiacaroline', 'shirleybrose', 'girlactionfigure', 'plastic_pals', 'stevedgrossman', 'ashleykotkis', 'zorbag', 'lodasi']\n",
      "\n",
      "Comment count: 2, \n",
      "Comments: [\"@eitanchitayat_words you wouldn't look out of place in it either\", '❤️ Some good men with their hearts in the right place in this photo.']\n",
      "\n",
      "\n",
      "Post: https://www.instagram.com/p/DFcx-07tYZ6/\n",
      "\n",
      "Likes: 100, \n",
      "Likers: ['rotem.se', 'eiserstbaptistchurch', 'editbostitch', 'mlaniado0306', 'gilaneedle', 'tara_kugler', 'israelforeverfoundation', 'ivychesser', 'bazzamtl', '_batsarah_efrat', 'velosmazehmusette', 'melodramanyc', 'sospiri.azzurri', 'benhuis1', 'siv6185', 'natalieabadi', 'ydiogenes', 'ianmthal', 'la.bohbot', 'mishacaplerwhite', 'ilanacutler', 'theconradhome', 'freaknfrawlic', 'hersheykiss82017', 'laurenmelissa___', 'barbarafrutiger99', 'karihollend', 'khayamaayan', 'brandybaird21', 'msslayerfaye', 'esty.e1234', 'jordanochayon', 'k_vin.s', 'jeremy_bnw', 'mikeburgher18', 'canela42', 'girlactionfigure', 'stevedgrossman', 'rizelandshine', 'mey_talsharon', 'raquelnathan_', 'mrs.all.wright', 'natalieshelly2', 'jen.kelvin', 'lalital1234', 'matt_erickson_mn', 'franksingermusic', 'melijim77', 'mercedesmenocalgregoire', 'sailtie', 'diana_jamanit', 'stefdi8', 'agc18chai', 'ouidesignlondon', 'ma.rsha1230', 'snoozefestbyjaynehavens', 'lbrose', 'eholpbern', 'nosnhojnednarb', 'spinlaw', 'elkanoman', 'allisonsomogyinewman', 'ayellet_rebecca', 'hps.rbn', 'sharongeltner', 'tantafalan', 'sewbloom', 'schneidermadmony', 'tesswildflower', 'laurars13', 'superjew3000', 'marzieh.doats', 'knitwithhappiness', 'zioness_panther', 'michellelbradshaw', 'l_j_g_63', 'littlebuntymae', 'sallyann_n', 'kbxingchick', 'hanne_mc', 'rhonam_itsanewyorkthing', 'sherrinef', 'l.bulnheim', 'hopeandflowers2023', 'fi.durra', 'debowiri', 'marlanunu', 'sabinakugel', 'geffeng', 'hazey_dreamz107', 'patricialackner', 'kelevs_ema', 'shareenrap', 'philschiff', 'plastic_pals', 'risri18', 'heylisagoldberg', 'aaronxcohen', 'msw1130', 'lacomilista']\n",
      "\n",
      "Comment count: 7, \n",
      "Comments: [\"It's a tie!\", 'They are both horrible', \"That's a hard choice\", \"So the devil or those who do the devil's bidding?  Personally, I hope they all end up in a place that's lower than hell itself.\", 'Western liberals. They have a choice. Sickening.', 'Teko', 'They deserve each other']\n"
     ]
    }
   ],
   "source": [
    "for post in post_data:\n",
    "    print(f\"\\n\\nPost: {post['post_url']}\")\n",
    "    print(f\"\\nLikes: {post['likes_count']}, \\nLikers: {post['likes']}\")\n",
    "    print(f\"\\nComment count: {post['comments_count']}, \\nComments: {post['comments']}\")"
   ]
  },
  {
   "cell_type": "code",
   "execution_count": null,
   "id": "fb91b96d-ae6d-4ed4-a0fa-559903425544",
   "metadata": {},
   "outputs": [],
   "source": []
  }
 ],
 "metadata": {
  "kernelspec": {
   "display_name": "Python 3 (ipykernel)",
   "language": "python",
   "name": "python3"
  },
  "language_info": {
   "codemirror_mode": {
    "name": "ipython",
    "version": 3
   },
   "file_extension": ".py",
   "mimetype": "text/x-python",
   "name": "python",
   "nbconvert_exporter": "python",
   "pygments_lexer": "ipython3",
   "version": "3.12.9"
  }
 },
 "nbformat": 4,
 "nbformat_minor": 5
}
