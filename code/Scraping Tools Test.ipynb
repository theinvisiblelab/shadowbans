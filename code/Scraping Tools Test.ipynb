{
 "cells": [
  {
   "cell_type": "markdown",
   "metadata": {},
   "source": [
    "## Third Party Scraper Tools Test"
   ]
  },
  {
   "cell_type": "markdown",
   "metadata": {},
   "source": [
    "### General Tools"
   ]
  },
  {
   "cell_type": "markdown",
   "metadata": {},
   "source": [
    "#### (1) SNScrape"
   ]
  },
  {
   "cell_type": "code",
   "execution_count": null,
   "metadata": {
    "id": "LD9j37dC2RGG"
   },
   "outputs": [],
   "source": [
    "import snscrape.modules.instagram as sni\n",
    "import pandas as pd\n",
    "import time"
   ]
  },
  {
   "cell_type": "code",
   "execution_count": null,
   "metadata": {
    "colab": {
     "base_uri": "https://localhost:8080/"
    },
    "id": "Jqw161TS2ukc",
    "outputId": "c28a46de-0755-4978-edb9-b2b1ce536286"
   },
   "outputs": [
    {
     "name": "stdout",
     "output_type": "stream",
     "text": [
      "Error scraping Amsterdam.encampment: Got status code 429\n",
      "Empty DataFrame\n",
      "Columns: []\n",
      "Index: []\n"
     ]
    }
   ],
   "source": [
    "users = [\"Amsterdam.encampment\"]\n",
    "all_posts = []\n",
    "\n",
    "for user in users:\n",
    "    scraper = sni.InstagramUserScraper(user)\n",
    "    try:\n",
    "        for i, post in enumerate(scraper.get_items()):\n",
    "            if i >= 50:\n",
    "                break\n",
    "            all_posts.append({\n",
    "                \"platform\": \"IG\",\n",
    "                \"username\": post.username,\n",
    "                \"url\": post.url,\n",
    "                \"date\": post.date,\n",
    "                \"content\": post.content,\n",
    "                \"likes\": post.likes,\n",
    "                \"comments\": post.comments,\n",
    "                \"is_video\": post.isVideo\n",
    "            })\n",
    "        time.sleep(10)\n",
    "    except Exception as e:\n",
    "        print(f\"Error scraping {user}: {e}\")\n",
    "\n",
    "df = pd.DataFrame(all_posts)\n",
    "print(df.head())\n"
   ]
  },
  {
   "cell_type": "code",
   "execution_count": null,
   "metadata": {
    "colab": {
     "base_uri": "https://localhost:8080/",
     "height": 545
    },
    "id": "--mh-VQH4g5Z",
    "outputId": "19daac1f-34ce-4752-a86f-a74d626328f0",
    "scrolled": true
   },
   "outputs": [
    {
     "name": "stderr",
     "output_type": "stream",
     "text": [
      "ERROR:snscrape.base:Error retrieving https://twitter.com/elonmusk: SSLError(MaxRetryError(\"HTTPSConnectionPool(host='twitter.com', port=443): Max retries exceeded with url: /elonmusk (Caused by SSLError(SSLCertVerificationError(1, '[SSL: CERTIFICATE_VERIFY_FAILED] certificate verify failed: unable to get local issuer certificate (_ssl.c:1016)')))\"))\n",
      "CRITICAL:snscrape.base:4 requests to https://twitter.com/elonmusk failed, giving up.\n",
      "CRITICAL:snscrape.base:Errors: SSLError(MaxRetryError(\"HTTPSConnectionPool(host='twitter.com', port=443): Max retries exceeded with url: /elonmusk (Caused by SSLError(SSLCertVerificationError(1, '[SSL: CERTIFICATE_VERIFY_FAILED] certificate verify failed: unable to get local issuer certificate (_ssl.c:1016)')))\")), SSLError(MaxRetryError(\"HTTPSConnectionPool(host='twitter.com', port=443): Max retries exceeded with url: /elonmusk (Caused by SSLError(SSLCertVerificationError(1, '[SSL: CERTIFICATE_VERIFY_FAILED] certificate verify failed: unable to get local issuer certificate (_ssl.c:1016)')))\")), SSLError(MaxRetryError(\"HTTPSConnectionPool(host='twitter.com', port=443): Max retries exceeded with url: /elonmusk (Caused by SSLError(SSLCertVerificationError(1, '[SSL: CERTIFICATE_VERIFY_FAILED] certificate verify failed: unable to get local issuer certificate (_ssl.c:1016)')))\")), SSLError(MaxRetryError(\"HTTPSConnectionPool(host='twitter.com', port=443): Max retries exceeded with url: /elonmusk (Caused by SSLError(SSLCertVerificationError(1, '[SSL: CERTIFICATE_VERIFY_FAILED] certificate verify failed: unable to get local issuer certificate (_ssl.c:1016)')))\"))\n"
     ]
    },
    {
     "ename": "ScraperException",
     "evalue": "4 requests to https://twitter.com/elonmusk failed, giving up.",
     "output_type": "error",
     "traceback": [
      "\u001b[0;31m---------------------------------------------------------------------------\u001b[0m",
      "\u001b[0;31mScraperException\u001b[0m                          Traceback (most recent call last)",
      "\u001b[0;32m/tmp/ipython-input-473662380.py\u001b[0m in \u001b[0;36m<cell line: 0>\u001b[0;34m()\u001b[0m\n\u001b[1;32m      6\u001b[0m \u001b[0;34m\u001b[0m\u001b[0m\n\u001b[1;32m      7\u001b[0m \u001b[0mtweets\u001b[0m \u001b[0;34m=\u001b[0m \u001b[0;34m[\u001b[0m\u001b[0;34m]\u001b[0m\u001b[0;34m\u001b[0m\u001b[0;34m\u001b[0m\u001b[0m\n\u001b[0;32m----> 8\u001b[0;31m \u001b[0;32mfor\u001b[0m \u001b[0mtweet\u001b[0m \u001b[0;32min\u001b[0m \u001b[0mscraper\u001b[0m\u001b[0;34m.\u001b[0m\u001b[0mget_items\u001b[0m\u001b[0;34m(\u001b[0m\u001b[0;34m)\u001b[0m\u001b[0;34m:\u001b[0m\u001b[0;34m\u001b[0m\u001b[0;34m\u001b[0m\u001b[0m\n\u001b[0m\u001b[1;32m      9\u001b[0m     tweets.append({\n\u001b[1;32m     10\u001b[0m         \u001b[0;34m\"date\"\u001b[0m\u001b[0;34m:\u001b[0m \u001b[0mtweet\u001b[0m\u001b[0;34m.\u001b[0m\u001b[0mdate\u001b[0m\u001b[0;34m,\u001b[0m\u001b[0;34m\u001b[0m\u001b[0;34m\u001b[0m\u001b[0m\n",
      "\u001b[0;32m/usr/local/lib/python3.11/dist-packages/snscrape/modules/twitter.py\u001b[0m in \u001b[0;36mget_items\u001b[0;34m(self)\u001b[0m\n\u001b[1;32m   1822\u001b[0m                         \u001b[0mself\u001b[0m\u001b[0;34m.\u001b[0m\u001b[0m_isUserId\u001b[0m \u001b[0;34m=\u001b[0m \u001b[0;32mFalse\u001b[0m\u001b[0;34m\u001b[0m\u001b[0;34m\u001b[0m\u001b[0m\n\u001b[1;32m   1823\u001b[0m                         \u001b[0mself\u001b[0m\u001b[0;34m.\u001b[0m\u001b[0m_query\u001b[0m \u001b[0;34m=\u001b[0m \u001b[0;34mf'from:{self._user}'\u001b[0m\u001b[0;34m\u001b[0m\u001b[0;34m\u001b[0m\u001b[0m\n\u001b[0;32m-> 1824\u001b[0;31m                 \u001b[0;32myield\u001b[0m \u001b[0;32mfrom\u001b[0m \u001b[0msuper\u001b[0m\u001b[0;34m(\u001b[0m\u001b[0;34m)\u001b[0m\u001b[0;34m.\u001b[0m\u001b[0mget_items\u001b[0m\u001b[0;34m(\u001b[0m\u001b[0;34m)\u001b[0m\u001b[0;34m\u001b[0m\u001b[0;34m\u001b[0m\u001b[0m\n\u001b[0m\u001b[1;32m   1825\u001b[0m \u001b[0;34m\u001b[0m\u001b[0m\n\u001b[1;32m   1826\u001b[0m         \u001b[0;34m@\u001b[0m\u001b[0mstaticmethod\u001b[0m\u001b[0;34m\u001b[0m\u001b[0;34m\u001b[0m\u001b[0m\n",
      "\u001b[0;32m/usr/local/lib/python3.11/dist-packages/snscrape/modules/twitter.py\u001b[0m in \u001b[0;36mget_items\u001b[0;34m(self)\u001b[0m\n\u001b[1;32m   1761\u001b[0m                 \u001b[0mpaginationParams\u001b[0m \u001b[0;34m=\u001b[0m \u001b[0;34m{\u001b[0m\u001b[0;34m'variables'\u001b[0m\u001b[0;34m:\u001b[0m \u001b[0mpaginationVariables\u001b[0m\u001b[0;34m,\u001b[0m \u001b[0;34m'features'\u001b[0m\u001b[0;34m:\u001b[0m \u001b[0mfeatures\u001b[0m\u001b[0;34m}\u001b[0m\u001b[0;34m\u001b[0m\u001b[0;34m\u001b[0m\u001b[0m\n\u001b[1;32m   1762\u001b[0m \u001b[0;34m\u001b[0m\u001b[0m\n\u001b[0;32m-> 1763\u001b[0;31m                 \u001b[0;32mfor\u001b[0m \u001b[0mobj\u001b[0m \u001b[0;32min\u001b[0m \u001b[0mself\u001b[0m\u001b[0;34m.\u001b[0m\u001b[0m_iter_api_data\u001b[0m\u001b[0;34m(\u001b[0m\u001b[0;34m'https://twitter.com/i/api/graphql/7jT5GT59P8IFjgxwqnEdQw/SearchTimeline'\u001b[0m\u001b[0;34m,\u001b[0m \u001b[0m_TwitterAPIType\u001b[0m\u001b[0;34m.\u001b[0m\u001b[0mGRAPHQL\u001b[0m\u001b[0;34m,\u001b[0m \u001b[0mparams\u001b[0m\u001b[0;34m,\u001b[0m \u001b[0mpaginationParams\u001b[0m\u001b[0;34m,\u001b[0m \u001b[0mcursor\u001b[0m \u001b[0;34m=\u001b[0m \u001b[0mself\u001b[0m\u001b[0;34m.\u001b[0m\u001b[0m_cursor\u001b[0m\u001b[0;34m,\u001b[0m \u001b[0minstructionsPath\u001b[0m \u001b[0;34m=\u001b[0m \u001b[0;34m[\u001b[0m\u001b[0;34m'data'\u001b[0m\u001b[0;34m,\u001b[0m \u001b[0;34m'search_by_raw_query'\u001b[0m\u001b[0;34m,\u001b[0m \u001b[0;34m'search_timeline'\u001b[0m\u001b[0;34m,\u001b[0m \u001b[0;34m'timeline'\u001b[0m\u001b[0;34m,\u001b[0m \u001b[0;34m'instructions'\u001b[0m\u001b[0;34m]\u001b[0m\u001b[0;34m)\u001b[0m\u001b[0;34m:\u001b[0m\u001b[0;34m\u001b[0m\u001b[0;34m\u001b[0m\u001b[0m\n\u001b[0m\u001b[1;32m   1764\u001b[0m                         \u001b[0;32myield\u001b[0m \u001b[0;32mfrom\u001b[0m \u001b[0mself\u001b[0m\u001b[0;34m.\u001b[0m\u001b[0m_graphql_timeline_instructions_to_tweets\u001b[0m\u001b[0;34m(\u001b[0m\u001b[0mobj\u001b[0m\u001b[0;34m[\u001b[0m\u001b[0;34m'data'\u001b[0m\u001b[0;34m]\u001b[0m\u001b[0;34m[\u001b[0m\u001b[0;34m'search_by_raw_query'\u001b[0m\u001b[0;34m]\u001b[0m\u001b[0;34m[\u001b[0m\u001b[0;34m'search_timeline'\u001b[0m\u001b[0;34m]\u001b[0m\u001b[0;34m[\u001b[0m\u001b[0;34m'timeline'\u001b[0m\u001b[0;34m]\u001b[0m\u001b[0;34m[\u001b[0m\u001b[0;34m'instructions'\u001b[0m\u001b[0;34m]\u001b[0m\u001b[0;34m)\u001b[0m\u001b[0;34m\u001b[0m\u001b[0;34m\u001b[0m\u001b[0m\n\u001b[1;32m   1765\u001b[0m \u001b[0;34m\u001b[0m\u001b[0m\n",
      "\u001b[0;32m/usr/local/lib/python3.11/dist-packages/snscrape/modules/twitter.py\u001b[0m in \u001b[0;36m_iter_api_data\u001b[0;34m(self, endpoint, apiType, params, paginationParams, cursor, direction, instructionsPath)\u001b[0m\n\u001b[1;32m    913\u001b[0m                 \u001b[0;32mwhile\u001b[0m \u001b[0;32mTrue\u001b[0m\u001b[0;34m:\u001b[0m\u001b[0;34m\u001b[0m\u001b[0;34m\u001b[0m\u001b[0m\n\u001b[1;32m    914\u001b[0m                         \u001b[0m_logger\u001b[0m\u001b[0;34m.\u001b[0m\u001b[0minfo\u001b[0m\u001b[0;34m(\u001b[0m\u001b[0;34mf'Retrieving scroll page {cursor}'\u001b[0m\u001b[0;34m)\u001b[0m\u001b[0;34m\u001b[0m\u001b[0;34m\u001b[0m\u001b[0m\n\u001b[0;32m--> 915\u001b[0;31m                         \u001b[0mobj\u001b[0m \u001b[0;34m=\u001b[0m \u001b[0mself\u001b[0m\u001b[0;34m.\u001b[0m\u001b[0m_get_api_data\u001b[0m\u001b[0;34m(\u001b[0m\u001b[0mendpoint\u001b[0m\u001b[0;34m,\u001b[0m \u001b[0mapiType\u001b[0m\u001b[0;34m,\u001b[0m \u001b[0mreqParams\u001b[0m\u001b[0;34m,\u001b[0m \u001b[0minstructionsPath\u001b[0m \u001b[0;34m=\u001b[0m \u001b[0minstructionsPath\u001b[0m\u001b[0;34m)\u001b[0m\u001b[0;34m\u001b[0m\u001b[0;34m\u001b[0m\u001b[0m\n\u001b[0m\u001b[1;32m    916\u001b[0m                         \u001b[0;32myield\u001b[0m \u001b[0mobj\u001b[0m\u001b[0;34m\u001b[0m\u001b[0;34m\u001b[0m\u001b[0m\n\u001b[1;32m    917\u001b[0m \u001b[0;34m\u001b[0m\u001b[0m\n",
      "\u001b[0;32m/usr/local/lib/python3.11/dist-packages/snscrape/modules/twitter.py\u001b[0m in \u001b[0;36m_get_api_data\u001b[0;34m(self, endpoint, apiType, params, instructionsPath)\u001b[0m\n\u001b[1;32m    881\u001b[0m \u001b[0;34m\u001b[0m\u001b[0m\n\u001b[1;32m    882\u001b[0m         \u001b[0;32mdef\u001b[0m \u001b[0m_get_api_data\u001b[0m\u001b[0;34m(\u001b[0m\u001b[0mself\u001b[0m\u001b[0;34m,\u001b[0m \u001b[0mendpoint\u001b[0m\u001b[0;34m,\u001b[0m \u001b[0mapiType\u001b[0m\u001b[0;34m,\u001b[0m \u001b[0mparams\u001b[0m\u001b[0;34m,\u001b[0m \u001b[0minstructionsPath\u001b[0m \u001b[0;34m=\u001b[0m \u001b[0;32mNone\u001b[0m\u001b[0;34m)\u001b[0m\u001b[0;34m:\u001b[0m\u001b[0;34m\u001b[0m\u001b[0;34m\u001b[0m\u001b[0m\n\u001b[0;32m--> 883\u001b[0;31m                 \u001b[0mself\u001b[0m\u001b[0;34m.\u001b[0m\u001b[0m_ensure_guest_token\u001b[0m\u001b[0;34m(\u001b[0m\u001b[0;34m)\u001b[0m\u001b[0;34m\u001b[0m\u001b[0;34m\u001b[0m\u001b[0m\n\u001b[0m\u001b[1;32m    884\u001b[0m                 \u001b[0;32mif\u001b[0m \u001b[0mapiType\u001b[0m \u001b[0;32mis\u001b[0m \u001b[0m_TwitterAPIType\u001b[0m\u001b[0;34m.\u001b[0m\u001b[0mGRAPHQL\u001b[0m\u001b[0;34m:\u001b[0m\u001b[0;34m\u001b[0m\u001b[0;34m\u001b[0m\u001b[0m\n\u001b[1;32m    885\u001b[0m                         \u001b[0mparams\u001b[0m \u001b[0;34m=\u001b[0m \u001b[0murllib\u001b[0m\u001b[0;34m.\u001b[0m\u001b[0mparse\u001b[0m\u001b[0;34m.\u001b[0m\u001b[0murlencode\u001b[0m\u001b[0;34m(\u001b[0m\u001b[0;34m{\u001b[0m\u001b[0mk\u001b[0m\u001b[0;34m:\u001b[0m \u001b[0mjson\u001b[0m\u001b[0;34m.\u001b[0m\u001b[0mdumps\u001b[0m\u001b[0;34m(\u001b[0m\u001b[0mv\u001b[0m\u001b[0;34m,\u001b[0m \u001b[0mseparators\u001b[0m \u001b[0;34m=\u001b[0m \u001b[0;34m(\u001b[0m\u001b[0;34m','\u001b[0m\u001b[0;34m,\u001b[0m \u001b[0;34m':'\u001b[0m\u001b[0;34m)\u001b[0m\u001b[0;34m)\u001b[0m \u001b[0;32mfor\u001b[0m \u001b[0mk\u001b[0m\u001b[0;34m,\u001b[0m \u001b[0mv\u001b[0m \u001b[0;32min\u001b[0m \u001b[0mparams\u001b[0m\u001b[0;34m.\u001b[0m\u001b[0mitems\u001b[0m\u001b[0;34m(\u001b[0m\u001b[0;34m)\u001b[0m\u001b[0;34m}\u001b[0m\u001b[0;34m,\u001b[0m \u001b[0mquote_via\u001b[0m \u001b[0;34m=\u001b[0m \u001b[0murllib\u001b[0m\u001b[0;34m.\u001b[0m\u001b[0mparse\u001b[0m\u001b[0;34m.\u001b[0m\u001b[0mquote\u001b[0m\u001b[0;34m)\u001b[0m\u001b[0;34m\u001b[0m\u001b[0;34m\u001b[0m\u001b[0m\n",
      "\u001b[0;32m/usr/local/lib/python3.11/dist-packages/snscrape/modules/twitter.py\u001b[0m in \u001b[0;36m_ensure_guest_token\u001b[0;34m(self, url)\u001b[0m\n\u001b[1;32m    823\u001b[0m                 \u001b[0;32mif\u001b[0m \u001b[0mself\u001b[0m\u001b[0;34m.\u001b[0m\u001b[0m_guestTokenManager\u001b[0m\u001b[0;34m.\u001b[0m\u001b[0mtoken\u001b[0m \u001b[0;32mis\u001b[0m \u001b[0;32mNone\u001b[0m\u001b[0;34m:\u001b[0m\u001b[0;34m\u001b[0m\u001b[0;34m\u001b[0m\u001b[0m\n\u001b[1;32m    824\u001b[0m                         \u001b[0m_logger\u001b[0m\u001b[0;34m.\u001b[0m\u001b[0minfo\u001b[0m\u001b[0;34m(\u001b[0m\u001b[0;34m'Retrieving guest token'\u001b[0m\u001b[0;34m)\u001b[0m\u001b[0;34m\u001b[0m\u001b[0;34m\u001b[0m\u001b[0m\n\u001b[0;32m--> 825\u001b[0;31m                         \u001b[0mr\u001b[0m \u001b[0;34m=\u001b[0m \u001b[0mself\u001b[0m\u001b[0;34m.\u001b[0m\u001b[0m_get\u001b[0m\u001b[0;34m(\u001b[0m\u001b[0mself\u001b[0m\u001b[0;34m.\u001b[0m\u001b[0m_baseUrl\u001b[0m \u001b[0;32mif\u001b[0m \u001b[0murl\u001b[0m \u001b[0;32mis\u001b[0m \u001b[0;32mNone\u001b[0m \u001b[0;32melse\u001b[0m \u001b[0murl\u001b[0m\u001b[0;34m,\u001b[0m \u001b[0mresponseOkCallback\u001b[0m \u001b[0;34m=\u001b[0m \u001b[0mself\u001b[0m\u001b[0;34m.\u001b[0m\u001b[0m_check_guest_token_response\u001b[0m\u001b[0;34m)\u001b[0m\u001b[0;34m\u001b[0m\u001b[0;34m\u001b[0m\u001b[0m\n\u001b[0m\u001b[1;32m    826\u001b[0m                         \u001b[0;32mif\u001b[0m \u001b[0;34m(\u001b[0m\u001b[0mmatch\u001b[0m \u001b[0;34m:=\u001b[0m \u001b[0mre\u001b[0m\u001b[0;34m.\u001b[0m\u001b[0msearch\u001b[0m\u001b[0;34m(\u001b[0m\u001b[0;34mr'document\\.cookie = decodeURIComponent\\(\"gt=(\\d+); Max-Age=10800; Domain=\\.twitter\\.com; Path=/; Secure\"\\);'\u001b[0m\u001b[0;34m,\u001b[0m \u001b[0mr\u001b[0m\u001b[0;34m.\u001b[0m\u001b[0mtext\u001b[0m\u001b[0;34m)\u001b[0m\u001b[0;34m)\u001b[0m\u001b[0;34m:\u001b[0m\u001b[0;34m\u001b[0m\u001b[0;34m\u001b[0m\u001b[0m\n\u001b[1;32m    827\u001b[0m                                 \u001b[0m_logger\u001b[0m\u001b[0;34m.\u001b[0m\u001b[0mdebug\u001b[0m\u001b[0;34m(\u001b[0m\u001b[0;34m'Found guest token in HTML'\u001b[0m\u001b[0;34m)\u001b[0m\u001b[0;34m\u001b[0m\u001b[0;34m\u001b[0m\u001b[0m\n",
      "\u001b[0;32m/usr/local/lib/python3.11/dist-packages/snscrape/base.py\u001b[0m in \u001b[0;36m_get\u001b[0;34m(self, *args, **kwargs)\u001b[0m\n\u001b[1;32m    273\u001b[0m \u001b[0;34m\u001b[0m\u001b[0m\n\u001b[1;32m    274\u001b[0m         \u001b[0;32mdef\u001b[0m \u001b[0m_get\u001b[0m\u001b[0;34m(\u001b[0m\u001b[0mself\u001b[0m\u001b[0;34m,\u001b[0m \u001b[0;34m*\u001b[0m\u001b[0margs\u001b[0m\u001b[0;34m,\u001b[0m \u001b[0;34m**\u001b[0m\u001b[0mkwargs\u001b[0m\u001b[0;34m)\u001b[0m\u001b[0;34m:\u001b[0m\u001b[0;34m\u001b[0m\u001b[0;34m\u001b[0m\u001b[0m\n\u001b[0;32m--> 275\u001b[0;31m                 \u001b[0;32mreturn\u001b[0m \u001b[0mself\u001b[0m\u001b[0;34m.\u001b[0m\u001b[0m_request\u001b[0m\u001b[0;34m(\u001b[0m\u001b[0;34m'GET'\u001b[0m\u001b[0;34m,\u001b[0m \u001b[0;34m*\u001b[0m\u001b[0margs\u001b[0m\u001b[0;34m,\u001b[0m \u001b[0;34m**\u001b[0m\u001b[0mkwargs\u001b[0m\u001b[0;34m)\u001b[0m\u001b[0;34m\u001b[0m\u001b[0;34m\u001b[0m\u001b[0m\n\u001b[0m\u001b[1;32m    276\u001b[0m \u001b[0;34m\u001b[0m\u001b[0m\n\u001b[1;32m    277\u001b[0m         \u001b[0;32mdef\u001b[0m \u001b[0m_post\u001b[0m\u001b[0;34m(\u001b[0m\u001b[0mself\u001b[0m\u001b[0;34m,\u001b[0m \u001b[0;34m*\u001b[0m\u001b[0margs\u001b[0m\u001b[0;34m,\u001b[0m \u001b[0;34m**\u001b[0m\u001b[0mkwargs\u001b[0m\u001b[0;34m)\u001b[0m\u001b[0;34m:\u001b[0m\u001b[0;34m\u001b[0m\u001b[0;34m\u001b[0m\u001b[0m\n",
      "\u001b[0;32m/usr/local/lib/python3.11/dist-packages/snscrape/base.py\u001b[0m in \u001b[0;36m_request\u001b[0;34m(self, method, url, params, data, headers, timeout, responseOkCallback, allowRedirects, proxies)\u001b[0m\n\u001b[1;32m    269\u001b[0m                         \u001b[0m_logger\u001b[0m\u001b[0;34m.\u001b[0m\u001b[0mfatal\u001b[0m\u001b[0;34m(\u001b[0m\u001b[0mmsg\u001b[0m\u001b[0;34m)\u001b[0m\u001b[0;34m\u001b[0m\u001b[0;34m\u001b[0m\u001b[0m\n\u001b[1;32m    270\u001b[0m                         \u001b[0m_logger\u001b[0m\u001b[0;34m.\u001b[0m\u001b[0mfatal\u001b[0m\u001b[0;34m(\u001b[0m\u001b[0;34mf'Errors: {\", \".join(errors)}'\u001b[0m\u001b[0;34m)\u001b[0m\u001b[0;34m\u001b[0m\u001b[0;34m\u001b[0m\u001b[0m\n\u001b[0;32m--> 271\u001b[0;31m                         \u001b[0;32mraise\u001b[0m \u001b[0mScraperException\u001b[0m\u001b[0;34m(\u001b[0m\u001b[0mmsg\u001b[0m\u001b[0;34m)\u001b[0m\u001b[0;34m\u001b[0m\u001b[0;34m\u001b[0m\u001b[0m\n\u001b[0m\u001b[1;32m    272\u001b[0m                 \u001b[0;32mraise\u001b[0m \u001b[0mRuntimeError\u001b[0m\u001b[0;34m(\u001b[0m\u001b[0;34m'Reached unreachable code'\u001b[0m\u001b[0;34m)\u001b[0m\u001b[0;34m\u001b[0m\u001b[0;34m\u001b[0m\u001b[0m\n\u001b[1;32m    273\u001b[0m \u001b[0;34m\u001b[0m\u001b[0m\n",
      "\u001b[0;31mScraperException\u001b[0m: 4 requests to https://twitter.com/elonmusk failed, giving up."
     ]
    }
   ],
   "source": [
    "import snscrape.modules.twitter as sntwitter\n",
    "\n",
    "username = \"elonmusk\"\n",
    "\n",
    "scraper = sntwitter.TwitterUserScraper(username)\n",
    "\n",
    "tweets = []\n",
    "for tweet in scraper.get_items():\n",
    "    tweets.append({\n",
    "        \"date\": tweet.date,\n",
    "        \"id\": tweet.id,\n",
    "        \"content\": tweet.content,\n",
    "        \"retweets\": tweet.retweetCount,\n",
    "        \"likes\": tweet.likeCount,\n",
    "        \"replies\": tweet.replyCount,\n",
    "    })\n",
    "\n",
    "print(f\"Get {len(tweets)} tweets\")\n",
    "print(tweets[:5])\n"
   ]
  },
  {
   "cell_type": "code",
   "execution_count": null,
   "metadata": {},
   "outputs": [],
   "source": []
  },
  {
   "cell_type": "markdown",
   "metadata": {
    "id": "hbxvQQ4vR7L5"
   },
   "source": [
    "#### (2) Scrape-up: Selenium"
   ]
  },
  {
   "cell_type": "code",
   "execution_count": 1,
   "metadata": {
    "id": "yCqjMUVuSEKN"
   },
   "outputs": [],
   "source": [
    "#pip install selenium"
   ]
  },
  {
   "cell_type": "code",
   "execution_count": 1,
   "metadata": {
    "colab": {
     "base_uri": "https://localhost:8080/"
    },
    "id": "iNRc2wB1SOno",
    "outputId": "63e5e493-0c22-45dc-d972-0e1d62687452"
   },
   "outputs": [],
   "source": [
    "#pip install webdriver_manager"
   ]
  },
  {
   "cell_type": "code",
   "execution_count": 1,
   "metadata": {
    "colab": {
     "base_uri": "https://localhost:8080/",
     "height": 467
    },
    "id": "uS_eOPAWR4MU",
    "outputId": "7c2eeb67-9373-429e-a372-dc290258746c"
   },
   "outputs": [
    {
     "name": "stdout",
     "output_type": "stream",
     "text": [
      "Cookies agreed\n",
      "--- User Data ---\n",
      "{'Username': 'Middleeasteye', 'data': None, 'message': 'Middleeasteye not found or an error occurred: Message: Browsing context has been discarded\\nStacktrace:\\nRemoteError@chrome://remote/content/shared/RemoteError.sys.mjs:8:8\\nWebDriverError@chrome://remote/content/shared/webdriver/Errors.sys.mjs:199:5\\nNoSuchWindowError@chrome://remote/content/shared/webdriver/Errors.sys.mjs:747:5\\nassert.that/<@chrome://remote/content/shared/webdriver/Assert.sys.mjs:559:13\\nassert.open@chrome://remote/content/shared/webdriver/Assert.sys.mjs:147:4\\nGeckoDriver.prototype.findElements@chrome://remote/content/marionette/driver.sys.mjs:1822:15\\ndespatch@chrome://remote/content/marionette/server.sys.mjs:318:40\\nexecute@chrome://remote/content/marionette/server.sys.mjs:289:16\\nonPacket/<@chrome://remote/content/marionette/server.sys.mjs:262:20\\nonPacket@chrome://remote/content/marionette/server.sys.mjs:263:9\\n_onJSONObjectReady/<@chrome://remote/content/marionette/transport.sys.mjs:494:20\\n'}\n",
      "-----------------\n"
     ]
    },
    {
     "ename": "KeyboardInterrupt",
     "evalue": "",
     "output_type": "error",
     "traceback": [
      "\u001b[0;31m---------------------------------------------------------------------------\u001b[0m",
      "\u001b[0;31mKeyboardInterrupt\u001b[0m                         Traceback (most recent call last)",
      "Cell \u001b[0;32mIn[1], line 53\u001b[0m\n\u001b[1;32m     51\u001b[0m \u001b[38;5;28;01mfor\u001b[39;00m username \u001b[38;5;129;01min\u001b[39;00m users:\n\u001b[1;32m     52\u001b[0m     user \u001b[38;5;241m=\u001b[39m User(username\u001b[38;5;241m=\u001b[39musername)\n\u001b[0;32m---> 53\u001b[0m     user_data \u001b[38;5;241m=\u001b[39m user\u001b[38;5;241m.\u001b[39muser_details()\n\u001b[1;32m     55\u001b[0m     \u001b[38;5;28mprint\u001b[39m(\u001b[38;5;124m\"\u001b[39m\u001b[38;5;124m--- User Data ---\u001b[39m\u001b[38;5;124m\"\u001b[39m)\n\u001b[1;32m     56\u001b[0m     \u001b[38;5;28mprint\u001b[39m(user_data)\n",
      "Cell \u001b[0;32mIn[1], line 17\u001b[0m, in \u001b[0;36mUser.user_details\u001b[0;34m(self)\u001b[0m\n\u001b[1;32m     16\u001b[0m \u001b[38;5;28;01mdef\u001b[39;00m \u001b[38;5;21muser_details\u001b[39m(\u001b[38;5;28mself\u001b[39m):\n\u001b[0;32m---> 17\u001b[0m     driver \u001b[38;5;241m=\u001b[39m webdriver\u001b[38;5;241m.\u001b[39mFirefox(service\u001b[38;5;241m=\u001b[39mService(GeckoDriverManager()\u001b[38;5;241m.\u001b[39minstall()))\n\u001b[1;32m     19\u001b[0m     \u001b[38;5;28;01mtry\u001b[39;00m:\n\u001b[1;32m     20\u001b[0m         driver\u001b[38;5;241m.\u001b[39mget(\u001b[38;5;124mf\u001b[39m\u001b[38;5;124m\"\u001b[39m\u001b[38;5;124mhttps://www.instagram.com/\u001b[39m\u001b[38;5;132;01m{\u001b[39;00m\u001b[38;5;28mself\u001b[39m\u001b[38;5;241m.\u001b[39musername\u001b[38;5;132;01m}\u001b[39;00m\u001b[38;5;124m/\u001b[39m\u001b[38;5;124m\"\u001b[39m)\n",
      "File \u001b[0;32m/opt/anaconda3/lib/python3.12/site-packages/webdriver_manager/firefox.py:39\u001b[0m, in \u001b[0;36mGeckoDriverManager.install\u001b[0;34m(self)\u001b[0m\n\u001b[1;32m     38\u001b[0m \u001b[38;5;28;01mdef\u001b[39;00m \u001b[38;5;21minstall\u001b[39m(\u001b[38;5;28mself\u001b[39m) \u001b[38;5;241m-\u001b[39m\u001b[38;5;241m>\u001b[39m \u001b[38;5;28mstr\u001b[39m:\n\u001b[0;32m---> 39\u001b[0m     driver_path \u001b[38;5;241m=\u001b[39m \u001b[38;5;28mself\u001b[39m\u001b[38;5;241m.\u001b[39m_get_driver_binary_path(\u001b[38;5;28mself\u001b[39m\u001b[38;5;241m.\u001b[39mdriver)\n\u001b[1;32m     40\u001b[0m     os\u001b[38;5;241m.\u001b[39mchmod(driver_path, \u001b[38;5;241m0o755\u001b[39m)\n\u001b[1;32m     41\u001b[0m     \u001b[38;5;28;01mreturn\u001b[39;00m driver_path\n",
      "File \u001b[0;32m/opt/anaconda3/lib/python3.12/site-packages/webdriver_manager/core/manager.py:35\u001b[0m, in \u001b[0;36mDriverManager._get_driver_binary_path\u001b[0;34m(self, driver)\u001b[0m\n\u001b[1;32m     34\u001b[0m \u001b[38;5;28;01mdef\u001b[39;00m \u001b[38;5;21m_get_driver_binary_path\u001b[39m(\u001b[38;5;28mself\u001b[39m, driver):\n\u001b[0;32m---> 35\u001b[0m     binary_path \u001b[38;5;241m=\u001b[39m \u001b[38;5;28mself\u001b[39m\u001b[38;5;241m.\u001b[39m_cache_manager\u001b[38;5;241m.\u001b[39mfind_driver(driver)\n\u001b[1;32m     36\u001b[0m     \u001b[38;5;28;01mif\u001b[39;00m binary_path:\n\u001b[1;32m     37\u001b[0m         \u001b[38;5;28;01mreturn\u001b[39;00m binary_path\n",
      "File \u001b[0;32m/opt/anaconda3/lib/python3.12/site-packages/webdriver_manager/core/driver_cache.py:110\u001b[0m, in \u001b[0;36mDriverCacheManager.find_driver\u001b[0;34m(self, driver)\u001b[0m\n\u001b[1;32m    107\u001b[0m driver_version \u001b[38;5;241m=\u001b[39m \u001b[38;5;28mself\u001b[39m\u001b[38;5;241m.\u001b[39mget_cache_key_driver_version(driver)\n\u001b[1;32m    108\u001b[0m metadata \u001b[38;5;241m=\u001b[39m \u001b[38;5;28mself\u001b[39m\u001b[38;5;241m.\u001b[39mload_metadata_content()\n\u001b[0;32m--> 110\u001b[0m key \u001b[38;5;241m=\u001b[39m \u001b[38;5;28mself\u001b[39m\u001b[38;5;241m.\u001b[39m__get_metadata_key(driver)\n\u001b[1;32m    111\u001b[0m \u001b[38;5;28;01mif\u001b[39;00m key \u001b[38;5;129;01mnot\u001b[39;00m \u001b[38;5;129;01min\u001b[39;00m metadata:\n\u001b[1;32m    112\u001b[0m     log(\u001b[38;5;124mf\u001b[39m\u001b[38;5;124m'\u001b[39m\u001b[38;5;124mThere is no [\u001b[39m\u001b[38;5;132;01m{\u001b[39;00mos_type\u001b[38;5;132;01m}\u001b[39;00m\u001b[38;5;124m] \u001b[39m\u001b[38;5;132;01m{\u001b[39;00mdriver_name\u001b[38;5;132;01m}\u001b[39;00m\u001b[38;5;124m \u001b[39m\u001b[38;5;124m\"\u001b[39m\u001b[38;5;132;01m{\u001b[39;00mdriver_version\u001b[38;5;132;01m}\u001b[39;00m\u001b[38;5;124m\"\u001b[39m\u001b[38;5;124m for browser \u001b[39m\u001b[38;5;132;01m{\u001b[39;00mbrowser_type\u001b[38;5;132;01m}\u001b[39;00m\u001b[38;5;124m \u001b[39m\u001b[38;5;124m'\u001b[39m\n\u001b[1;32m    113\u001b[0m         \u001b[38;5;124mf\u001b[39m\u001b[38;5;124m'\u001b[39m\u001b[38;5;124m\"\u001b[39m\u001b[38;5;132;01m{\u001b[39;00mbrowser_version\u001b[38;5;132;01m}\u001b[39;00m\u001b[38;5;124m\"\u001b[39m\u001b[38;5;124m in cache\u001b[39m\u001b[38;5;124m'\u001b[39m)\n",
      "File \u001b[0;32m/opt/anaconda3/lib/python3.12/site-packages/webdriver_manager/core/driver_cache.py:144\u001b[0m, in \u001b[0;36mDriverCacheManager.__get_metadata_key\u001b[0;34m(self, driver)\u001b[0m\n\u001b[1;32m    141\u001b[0m \u001b[38;5;28;01mif\u001b[39;00m \u001b[38;5;28mself\u001b[39m\u001b[38;5;241m.\u001b[39m_metadata_key:\n\u001b[1;32m    142\u001b[0m     \u001b[38;5;28;01mreturn\u001b[39;00m \u001b[38;5;28mself\u001b[39m\u001b[38;5;241m.\u001b[39m_metadata_key\n\u001b[0;32m--> 144\u001b[0m driver_version \u001b[38;5;241m=\u001b[39m \u001b[38;5;28mself\u001b[39m\u001b[38;5;241m.\u001b[39mget_cache_key_driver_version(driver)\n\u001b[1;32m    145\u001b[0m browser_version \u001b[38;5;241m=\u001b[39m driver\u001b[38;5;241m.\u001b[39mget_browser_version_from_os()\n\u001b[1;32m    146\u001b[0m browser_version \u001b[38;5;241m=\u001b[39m browser_version \u001b[38;5;28;01mif\u001b[39;00m browser_version \u001b[38;5;28;01melse\u001b[39;00m \u001b[38;5;124m\"\u001b[39m\u001b[38;5;124m\"\u001b[39m\n",
      "File \u001b[0;32m/opt/anaconda3/lib/python3.12/site-packages/webdriver_manager/core/driver_cache.py:154\u001b[0m, in \u001b[0;36mDriverCacheManager.get_cache_key_driver_version\u001b[0;34m(self, driver)\u001b[0m\n\u001b[1;32m    152\u001b[0m \u001b[38;5;28;01mif\u001b[39;00m \u001b[38;5;28mself\u001b[39m\u001b[38;5;241m.\u001b[39m_cache_key_driver_version:\n\u001b[1;32m    153\u001b[0m     \u001b[38;5;28;01mreturn\u001b[39;00m \u001b[38;5;28mself\u001b[39m\u001b[38;5;241m.\u001b[39m_cache_key_driver_version\n\u001b[0;32m--> 154\u001b[0m \u001b[38;5;28;01mreturn\u001b[39;00m driver\u001b[38;5;241m.\u001b[39mget_driver_version_to_download()\n",
      "File \u001b[0;32m/opt/anaconda3/lib/python3.12/site-packages/webdriver_manager/core/driver.py:48\u001b[0m, in \u001b[0;36mDriver.get_driver_version_to_download\u001b[0;34m(self)\u001b[0m\n\u001b[1;32m     45\u001b[0m \u001b[38;5;28;01mif\u001b[39;00m \u001b[38;5;28mself\u001b[39m\u001b[38;5;241m.\u001b[39m_driver_version_to_download:\n\u001b[1;32m     46\u001b[0m     \u001b[38;5;28;01mreturn\u001b[39;00m \u001b[38;5;28mself\u001b[39m\u001b[38;5;241m.\u001b[39m_driver_version_to_download\n\u001b[0;32m---> 48\u001b[0m \u001b[38;5;28;01mreturn\u001b[39;00m \u001b[38;5;28mself\u001b[39m\u001b[38;5;241m.\u001b[39mget_latest_release_version()\n",
      "File \u001b[0;32m/opt/anaconda3/lib/python3.12/site-packages/webdriver_manager/drivers/firefox.py:29\u001b[0m, in \u001b[0;36mGeckoDriver.get_latest_release_version\u001b[0;34m(self)\u001b[0m\n\u001b[1;32m     27\u001b[0m determined_browser_version \u001b[38;5;241m=\u001b[39m \u001b[38;5;28mself\u001b[39m\u001b[38;5;241m.\u001b[39mget_browser_version_from_os()\n\u001b[1;32m     28\u001b[0m log(\u001b[38;5;124mf\u001b[39m\u001b[38;5;124m\"\u001b[39m\u001b[38;5;124mGet LATEST \u001b[39m\u001b[38;5;132;01m{\u001b[39;00m\u001b[38;5;28mself\u001b[39m\u001b[38;5;241m.\u001b[39m_name\u001b[38;5;132;01m}\u001b[39;00m\u001b[38;5;124m version for \u001b[39m\u001b[38;5;132;01m{\u001b[39;00mdetermined_browser_version\u001b[38;5;132;01m}\u001b[39;00m\u001b[38;5;124m firefox\u001b[39m\u001b[38;5;124m\"\u001b[39m)\n\u001b[0;32m---> 29\u001b[0m resp \u001b[38;5;241m=\u001b[39m \u001b[38;5;28mself\u001b[39m\u001b[38;5;241m.\u001b[39m_http_client\u001b[38;5;241m.\u001b[39mget(\n\u001b[1;32m     30\u001b[0m     url\u001b[38;5;241m=\u001b[39m\u001b[38;5;28mself\u001b[39m\u001b[38;5;241m.\u001b[39mlatest_release_url,\n\u001b[1;32m     31\u001b[0m     headers\u001b[38;5;241m=\u001b[39m\u001b[38;5;28mself\u001b[39m\u001b[38;5;241m.\u001b[39mauth_header\n\u001b[1;32m     32\u001b[0m )\n\u001b[1;32m     33\u001b[0m \u001b[38;5;28;01mreturn\u001b[39;00m resp\u001b[38;5;241m.\u001b[39mjson()[\u001b[38;5;124m\"\u001b[39m\u001b[38;5;124mtag_name\u001b[39m\u001b[38;5;124m\"\u001b[39m]\n",
      "File \u001b[0;32m/opt/anaconda3/lib/python3.12/site-packages/webdriver_manager/core/http.py:32\u001b[0m, in \u001b[0;36mWDMHttpClient.get\u001b[0;34m(self, url, **kwargs)\u001b[0m\n\u001b[1;32m     30\u001b[0m \u001b[38;5;28;01mdef\u001b[39;00m \u001b[38;5;21mget\u001b[39m(\u001b[38;5;28mself\u001b[39m, url, \u001b[38;5;241m*\u001b[39m\u001b[38;5;241m*\u001b[39mkwargs) \u001b[38;5;241m-\u001b[39m\u001b[38;5;241m>\u001b[39m Response:\n\u001b[1;32m     31\u001b[0m     \u001b[38;5;28;01mtry\u001b[39;00m:\n\u001b[0;32m---> 32\u001b[0m         resp \u001b[38;5;241m=\u001b[39m requests\u001b[38;5;241m.\u001b[39mget(\n\u001b[1;32m     33\u001b[0m             url\u001b[38;5;241m=\u001b[39murl, verify\u001b[38;5;241m=\u001b[39m\u001b[38;5;28mself\u001b[39m\u001b[38;5;241m.\u001b[39m_ssl_verify, stream\u001b[38;5;241m=\u001b[39m\u001b[38;5;28;01mTrue\u001b[39;00m, \u001b[38;5;241m*\u001b[39m\u001b[38;5;241m*\u001b[39mkwargs)\n\u001b[1;32m     34\u001b[0m     \u001b[38;5;28;01mexcept\u001b[39;00m exceptions\u001b[38;5;241m.\u001b[39mConnectionError:\n\u001b[1;32m     35\u001b[0m         \u001b[38;5;28;01mraise\u001b[39;00m exceptions\u001b[38;5;241m.\u001b[39mConnectionError(\u001b[38;5;124mf\u001b[39m\u001b[38;5;124m\"\u001b[39m\u001b[38;5;124mCould not reach host. Are you offline?\u001b[39m\u001b[38;5;124m\"\u001b[39m)\n",
      "File \u001b[0;32m/opt/anaconda3/lib/python3.12/site-packages/requests/api.py:73\u001b[0m, in \u001b[0;36mget\u001b[0;34m(url, params, **kwargs)\u001b[0m\n\u001b[1;32m     62\u001b[0m \u001b[38;5;28;01mdef\u001b[39;00m \u001b[38;5;21mget\u001b[39m(url, params\u001b[38;5;241m=\u001b[39m\u001b[38;5;28;01mNone\u001b[39;00m, \u001b[38;5;241m*\u001b[39m\u001b[38;5;241m*\u001b[39mkwargs):\n\u001b[1;32m     63\u001b[0m \u001b[38;5;250m    \u001b[39m\u001b[38;5;124mr\u001b[39m\u001b[38;5;124;03m\"\"\"Sends a GET request.\u001b[39;00m\n\u001b[1;32m     64\u001b[0m \n\u001b[1;32m     65\u001b[0m \u001b[38;5;124;03m    :param url: URL for the new :class:`Request` object.\u001b[39;00m\n\u001b[0;32m   (...)\u001b[0m\n\u001b[1;32m     70\u001b[0m \u001b[38;5;124;03m    :rtype: requests.Response\u001b[39;00m\n\u001b[1;32m     71\u001b[0m \u001b[38;5;124;03m    \"\"\"\u001b[39;00m\n\u001b[0;32m---> 73\u001b[0m     \u001b[38;5;28;01mreturn\u001b[39;00m request(\u001b[38;5;124m\"\u001b[39m\u001b[38;5;124mget\u001b[39m\u001b[38;5;124m\"\u001b[39m, url, params\u001b[38;5;241m=\u001b[39mparams, \u001b[38;5;241m*\u001b[39m\u001b[38;5;241m*\u001b[39mkwargs)\n",
      "File \u001b[0;32m/opt/anaconda3/lib/python3.12/site-packages/requests/api.py:59\u001b[0m, in \u001b[0;36mrequest\u001b[0;34m(method, url, **kwargs)\u001b[0m\n\u001b[1;32m     55\u001b[0m \u001b[38;5;66;03m# By using the 'with' statement we are sure the session is closed, thus we\u001b[39;00m\n\u001b[1;32m     56\u001b[0m \u001b[38;5;66;03m# avoid leaving sockets open which can trigger a ResourceWarning in some\u001b[39;00m\n\u001b[1;32m     57\u001b[0m \u001b[38;5;66;03m# cases, and look like a memory leak in others.\u001b[39;00m\n\u001b[1;32m     58\u001b[0m \u001b[38;5;28;01mwith\u001b[39;00m sessions\u001b[38;5;241m.\u001b[39mSession() \u001b[38;5;28;01mas\u001b[39;00m session:\n\u001b[0;32m---> 59\u001b[0m     \u001b[38;5;28;01mreturn\u001b[39;00m session\u001b[38;5;241m.\u001b[39mrequest(method\u001b[38;5;241m=\u001b[39mmethod, url\u001b[38;5;241m=\u001b[39murl, \u001b[38;5;241m*\u001b[39m\u001b[38;5;241m*\u001b[39mkwargs)\n",
      "File \u001b[0;32m/opt/anaconda3/lib/python3.12/site-packages/requests/sessions.py:589\u001b[0m, in \u001b[0;36mSession.request\u001b[0;34m(self, method, url, params, data, headers, cookies, files, auth, timeout, allow_redirects, proxies, hooks, stream, verify, cert, json)\u001b[0m\n\u001b[1;32m    584\u001b[0m send_kwargs \u001b[38;5;241m=\u001b[39m {\n\u001b[1;32m    585\u001b[0m     \u001b[38;5;124m\"\u001b[39m\u001b[38;5;124mtimeout\u001b[39m\u001b[38;5;124m\"\u001b[39m: timeout,\n\u001b[1;32m    586\u001b[0m     \u001b[38;5;124m\"\u001b[39m\u001b[38;5;124mallow_redirects\u001b[39m\u001b[38;5;124m\"\u001b[39m: allow_redirects,\n\u001b[1;32m    587\u001b[0m }\n\u001b[1;32m    588\u001b[0m send_kwargs\u001b[38;5;241m.\u001b[39mupdate(settings)\n\u001b[0;32m--> 589\u001b[0m resp \u001b[38;5;241m=\u001b[39m \u001b[38;5;28mself\u001b[39m\u001b[38;5;241m.\u001b[39msend(prep, \u001b[38;5;241m*\u001b[39m\u001b[38;5;241m*\u001b[39msend_kwargs)\n\u001b[1;32m    591\u001b[0m \u001b[38;5;28;01mreturn\u001b[39;00m resp\n",
      "File \u001b[0;32m/opt/anaconda3/lib/python3.12/site-packages/requests/sessions.py:703\u001b[0m, in \u001b[0;36mSession.send\u001b[0;34m(self, request, **kwargs)\u001b[0m\n\u001b[1;32m    700\u001b[0m start \u001b[38;5;241m=\u001b[39m preferred_clock()\n\u001b[1;32m    702\u001b[0m \u001b[38;5;66;03m# Send the request\u001b[39;00m\n\u001b[0;32m--> 703\u001b[0m r \u001b[38;5;241m=\u001b[39m adapter\u001b[38;5;241m.\u001b[39msend(request, \u001b[38;5;241m*\u001b[39m\u001b[38;5;241m*\u001b[39mkwargs)\n\u001b[1;32m    705\u001b[0m \u001b[38;5;66;03m# Total elapsed time of the request (approximately)\u001b[39;00m\n\u001b[1;32m    706\u001b[0m elapsed \u001b[38;5;241m=\u001b[39m preferred_clock() \u001b[38;5;241m-\u001b[39m start\n",
      "File \u001b[0;32m/opt/anaconda3/lib/python3.12/site-packages/requests/adapters.py:667\u001b[0m, in \u001b[0;36mHTTPAdapter.send\u001b[0;34m(self, request, stream, timeout, verify, cert, proxies)\u001b[0m\n\u001b[1;32m    664\u001b[0m     timeout \u001b[38;5;241m=\u001b[39m TimeoutSauce(connect\u001b[38;5;241m=\u001b[39mtimeout, read\u001b[38;5;241m=\u001b[39mtimeout)\n\u001b[1;32m    666\u001b[0m \u001b[38;5;28;01mtry\u001b[39;00m:\n\u001b[0;32m--> 667\u001b[0m     resp \u001b[38;5;241m=\u001b[39m conn\u001b[38;5;241m.\u001b[39murlopen(\n\u001b[1;32m    668\u001b[0m         method\u001b[38;5;241m=\u001b[39mrequest\u001b[38;5;241m.\u001b[39mmethod,\n\u001b[1;32m    669\u001b[0m         url\u001b[38;5;241m=\u001b[39murl,\n\u001b[1;32m    670\u001b[0m         body\u001b[38;5;241m=\u001b[39mrequest\u001b[38;5;241m.\u001b[39mbody,\n\u001b[1;32m    671\u001b[0m         headers\u001b[38;5;241m=\u001b[39mrequest\u001b[38;5;241m.\u001b[39mheaders,\n\u001b[1;32m    672\u001b[0m         redirect\u001b[38;5;241m=\u001b[39m\u001b[38;5;28;01mFalse\u001b[39;00m,\n\u001b[1;32m    673\u001b[0m         assert_same_host\u001b[38;5;241m=\u001b[39m\u001b[38;5;28;01mFalse\u001b[39;00m,\n\u001b[1;32m    674\u001b[0m         preload_content\u001b[38;5;241m=\u001b[39m\u001b[38;5;28;01mFalse\u001b[39;00m,\n\u001b[1;32m    675\u001b[0m         decode_content\u001b[38;5;241m=\u001b[39m\u001b[38;5;28;01mFalse\u001b[39;00m,\n\u001b[1;32m    676\u001b[0m         retries\u001b[38;5;241m=\u001b[39m\u001b[38;5;28mself\u001b[39m\u001b[38;5;241m.\u001b[39mmax_retries,\n\u001b[1;32m    677\u001b[0m         timeout\u001b[38;5;241m=\u001b[39mtimeout,\n\u001b[1;32m    678\u001b[0m         chunked\u001b[38;5;241m=\u001b[39mchunked,\n\u001b[1;32m    679\u001b[0m     )\n\u001b[1;32m    681\u001b[0m \u001b[38;5;28;01mexcept\u001b[39;00m (ProtocolError, \u001b[38;5;167;01mOSError\u001b[39;00m) \u001b[38;5;28;01mas\u001b[39;00m err:\n\u001b[1;32m    682\u001b[0m     \u001b[38;5;28;01mraise\u001b[39;00m \u001b[38;5;167;01mConnectionError\u001b[39;00m(err, request\u001b[38;5;241m=\u001b[39mrequest)\n",
      "File \u001b[0;32m/opt/anaconda3/lib/python3.12/site-packages/urllib3/connectionpool.py:787\u001b[0m, in \u001b[0;36mHTTPConnectionPool.urlopen\u001b[0;34m(self, method, url, body, headers, retries, redirect, assert_same_host, timeout, pool_timeout, release_conn, chunked, body_pos, preload_content, decode_content, **response_kw)\u001b[0m\n\u001b[1;32m    784\u001b[0m response_conn \u001b[38;5;241m=\u001b[39m conn \u001b[38;5;28;01mif\u001b[39;00m \u001b[38;5;129;01mnot\u001b[39;00m release_conn \u001b[38;5;28;01melse\u001b[39;00m \u001b[38;5;28;01mNone\u001b[39;00m\n\u001b[1;32m    786\u001b[0m \u001b[38;5;66;03m# Make the request on the HTTPConnection object\u001b[39;00m\n\u001b[0;32m--> 787\u001b[0m response \u001b[38;5;241m=\u001b[39m \u001b[38;5;28mself\u001b[39m\u001b[38;5;241m.\u001b[39m_make_request(\n\u001b[1;32m    788\u001b[0m     conn,\n\u001b[1;32m    789\u001b[0m     method,\n\u001b[1;32m    790\u001b[0m     url,\n\u001b[1;32m    791\u001b[0m     timeout\u001b[38;5;241m=\u001b[39mtimeout_obj,\n\u001b[1;32m    792\u001b[0m     body\u001b[38;5;241m=\u001b[39mbody,\n\u001b[1;32m    793\u001b[0m     headers\u001b[38;5;241m=\u001b[39mheaders,\n\u001b[1;32m    794\u001b[0m     chunked\u001b[38;5;241m=\u001b[39mchunked,\n\u001b[1;32m    795\u001b[0m     retries\u001b[38;5;241m=\u001b[39mretries,\n\u001b[1;32m    796\u001b[0m     response_conn\u001b[38;5;241m=\u001b[39mresponse_conn,\n\u001b[1;32m    797\u001b[0m     preload_content\u001b[38;5;241m=\u001b[39mpreload_content,\n\u001b[1;32m    798\u001b[0m     decode_content\u001b[38;5;241m=\u001b[39mdecode_content,\n\u001b[1;32m    799\u001b[0m     \u001b[38;5;241m*\u001b[39m\u001b[38;5;241m*\u001b[39mresponse_kw,\n\u001b[1;32m    800\u001b[0m )\n\u001b[1;32m    802\u001b[0m \u001b[38;5;66;03m# Everything went great!\u001b[39;00m\n\u001b[1;32m    803\u001b[0m clean_exit \u001b[38;5;241m=\u001b[39m \u001b[38;5;28;01mTrue\u001b[39;00m\n",
      "File \u001b[0;32m/opt/anaconda3/lib/python3.12/site-packages/urllib3/connectionpool.py:464\u001b[0m, in \u001b[0;36mHTTPConnectionPool._make_request\u001b[0;34m(self, conn, method, url, body, headers, retries, timeout, chunked, response_conn, preload_content, decode_content, enforce_content_length)\u001b[0m\n\u001b[1;32m    461\u001b[0m \u001b[38;5;28;01mtry\u001b[39;00m:\n\u001b[1;32m    462\u001b[0m     \u001b[38;5;66;03m# Trigger any extra validation we need to do.\u001b[39;00m\n\u001b[1;32m    463\u001b[0m     \u001b[38;5;28;01mtry\u001b[39;00m:\n\u001b[0;32m--> 464\u001b[0m         \u001b[38;5;28mself\u001b[39m\u001b[38;5;241m.\u001b[39m_validate_conn(conn)\n\u001b[1;32m    465\u001b[0m     \u001b[38;5;28;01mexcept\u001b[39;00m (SocketTimeout, BaseSSLError) \u001b[38;5;28;01mas\u001b[39;00m e:\n\u001b[1;32m    466\u001b[0m         \u001b[38;5;28mself\u001b[39m\u001b[38;5;241m.\u001b[39m_raise_timeout(err\u001b[38;5;241m=\u001b[39me, url\u001b[38;5;241m=\u001b[39murl, timeout_value\u001b[38;5;241m=\u001b[39mconn\u001b[38;5;241m.\u001b[39mtimeout)\n",
      "File \u001b[0;32m/opt/anaconda3/lib/python3.12/site-packages/urllib3/connectionpool.py:1093\u001b[0m, in \u001b[0;36mHTTPSConnectionPool._validate_conn\u001b[0;34m(self, conn)\u001b[0m\n\u001b[1;32m   1091\u001b[0m \u001b[38;5;66;03m# Force connect early to allow us to validate the connection.\u001b[39;00m\n\u001b[1;32m   1092\u001b[0m \u001b[38;5;28;01mif\u001b[39;00m conn\u001b[38;5;241m.\u001b[39mis_closed:\n\u001b[0;32m-> 1093\u001b[0m     conn\u001b[38;5;241m.\u001b[39mconnect()\n\u001b[1;32m   1095\u001b[0m \u001b[38;5;66;03m# TODO revise this, see https://github.com/urllib3/urllib3/issues/2791\u001b[39;00m\n\u001b[1;32m   1096\u001b[0m \u001b[38;5;28;01mif\u001b[39;00m \u001b[38;5;129;01mnot\u001b[39;00m conn\u001b[38;5;241m.\u001b[39mis_verified \u001b[38;5;129;01mand\u001b[39;00m \u001b[38;5;129;01mnot\u001b[39;00m conn\u001b[38;5;241m.\u001b[39mproxy_is_verified:\n",
      "File \u001b[0;32m/opt/anaconda3/lib/python3.12/site-packages/urllib3/connection.py:741\u001b[0m, in \u001b[0;36mHTTPSConnection.connect\u001b[0;34m(self)\u001b[0m\n\u001b[1;32m    738\u001b[0m     \u001b[38;5;66;03m# Remove trailing '.' from fqdn hostnames to allow certificate validation\u001b[39;00m\n\u001b[1;32m    739\u001b[0m     server_hostname_rm_dot \u001b[38;5;241m=\u001b[39m server_hostname\u001b[38;5;241m.\u001b[39mrstrip(\u001b[38;5;124m\"\u001b[39m\u001b[38;5;124m.\u001b[39m\u001b[38;5;124m\"\u001b[39m)\n\u001b[0;32m--> 741\u001b[0m     sock_and_verified \u001b[38;5;241m=\u001b[39m _ssl_wrap_socket_and_match_hostname(\n\u001b[1;32m    742\u001b[0m         sock\u001b[38;5;241m=\u001b[39msock,\n\u001b[1;32m    743\u001b[0m         cert_reqs\u001b[38;5;241m=\u001b[39m\u001b[38;5;28mself\u001b[39m\u001b[38;5;241m.\u001b[39mcert_reqs,\n\u001b[1;32m    744\u001b[0m         ssl_version\u001b[38;5;241m=\u001b[39m\u001b[38;5;28mself\u001b[39m\u001b[38;5;241m.\u001b[39mssl_version,\n\u001b[1;32m    745\u001b[0m         ssl_minimum_version\u001b[38;5;241m=\u001b[39m\u001b[38;5;28mself\u001b[39m\u001b[38;5;241m.\u001b[39mssl_minimum_version,\n\u001b[1;32m    746\u001b[0m         ssl_maximum_version\u001b[38;5;241m=\u001b[39m\u001b[38;5;28mself\u001b[39m\u001b[38;5;241m.\u001b[39mssl_maximum_version,\n\u001b[1;32m    747\u001b[0m         ca_certs\u001b[38;5;241m=\u001b[39m\u001b[38;5;28mself\u001b[39m\u001b[38;5;241m.\u001b[39mca_certs,\n\u001b[1;32m    748\u001b[0m         ca_cert_dir\u001b[38;5;241m=\u001b[39m\u001b[38;5;28mself\u001b[39m\u001b[38;5;241m.\u001b[39mca_cert_dir,\n\u001b[1;32m    749\u001b[0m         ca_cert_data\u001b[38;5;241m=\u001b[39m\u001b[38;5;28mself\u001b[39m\u001b[38;5;241m.\u001b[39mca_cert_data,\n\u001b[1;32m    750\u001b[0m         cert_file\u001b[38;5;241m=\u001b[39m\u001b[38;5;28mself\u001b[39m\u001b[38;5;241m.\u001b[39mcert_file,\n\u001b[1;32m    751\u001b[0m         key_file\u001b[38;5;241m=\u001b[39m\u001b[38;5;28mself\u001b[39m\u001b[38;5;241m.\u001b[39mkey_file,\n\u001b[1;32m    752\u001b[0m         key_password\u001b[38;5;241m=\u001b[39m\u001b[38;5;28mself\u001b[39m\u001b[38;5;241m.\u001b[39mkey_password,\n\u001b[1;32m    753\u001b[0m         server_hostname\u001b[38;5;241m=\u001b[39mserver_hostname_rm_dot,\n\u001b[1;32m    754\u001b[0m         ssl_context\u001b[38;5;241m=\u001b[39m\u001b[38;5;28mself\u001b[39m\u001b[38;5;241m.\u001b[39mssl_context,\n\u001b[1;32m    755\u001b[0m         tls_in_tls\u001b[38;5;241m=\u001b[39mtls_in_tls,\n\u001b[1;32m    756\u001b[0m         assert_hostname\u001b[38;5;241m=\u001b[39m\u001b[38;5;28mself\u001b[39m\u001b[38;5;241m.\u001b[39massert_hostname,\n\u001b[1;32m    757\u001b[0m         assert_fingerprint\u001b[38;5;241m=\u001b[39m\u001b[38;5;28mself\u001b[39m\u001b[38;5;241m.\u001b[39massert_fingerprint,\n\u001b[1;32m    758\u001b[0m     )\n\u001b[1;32m    759\u001b[0m     \u001b[38;5;28mself\u001b[39m\u001b[38;5;241m.\u001b[39msock \u001b[38;5;241m=\u001b[39m sock_and_verified\u001b[38;5;241m.\u001b[39msocket\n\u001b[1;32m    761\u001b[0m \u001b[38;5;66;03m# If an error occurs during connection/handshake we may need to release\u001b[39;00m\n\u001b[1;32m    762\u001b[0m \u001b[38;5;66;03m# our lock so another connection can probe the origin.\u001b[39;00m\n",
      "File \u001b[0;32m/opt/anaconda3/lib/python3.12/site-packages/urllib3/connection.py:920\u001b[0m, in \u001b[0;36m_ssl_wrap_socket_and_match_hostname\u001b[0;34m(sock, cert_reqs, ssl_version, ssl_minimum_version, ssl_maximum_version, cert_file, key_file, key_password, ca_certs, ca_cert_dir, ca_cert_data, assert_hostname, assert_fingerprint, server_hostname, ssl_context, tls_in_tls)\u001b[0m\n\u001b[1;32m    917\u001b[0m     \u001b[38;5;28;01mif\u001b[39;00m is_ipaddress(normalized):\n\u001b[1;32m    918\u001b[0m         server_hostname \u001b[38;5;241m=\u001b[39m normalized\n\u001b[0;32m--> 920\u001b[0m ssl_sock \u001b[38;5;241m=\u001b[39m ssl_wrap_socket(\n\u001b[1;32m    921\u001b[0m     sock\u001b[38;5;241m=\u001b[39msock,\n\u001b[1;32m    922\u001b[0m     keyfile\u001b[38;5;241m=\u001b[39mkey_file,\n\u001b[1;32m    923\u001b[0m     certfile\u001b[38;5;241m=\u001b[39mcert_file,\n\u001b[1;32m    924\u001b[0m     key_password\u001b[38;5;241m=\u001b[39mkey_password,\n\u001b[1;32m    925\u001b[0m     ca_certs\u001b[38;5;241m=\u001b[39mca_certs,\n\u001b[1;32m    926\u001b[0m     ca_cert_dir\u001b[38;5;241m=\u001b[39mca_cert_dir,\n\u001b[1;32m    927\u001b[0m     ca_cert_data\u001b[38;5;241m=\u001b[39mca_cert_data,\n\u001b[1;32m    928\u001b[0m     server_hostname\u001b[38;5;241m=\u001b[39mserver_hostname,\n\u001b[1;32m    929\u001b[0m     ssl_context\u001b[38;5;241m=\u001b[39mcontext,\n\u001b[1;32m    930\u001b[0m     tls_in_tls\u001b[38;5;241m=\u001b[39mtls_in_tls,\n\u001b[1;32m    931\u001b[0m )\n\u001b[1;32m    933\u001b[0m \u001b[38;5;28;01mtry\u001b[39;00m:\n\u001b[1;32m    934\u001b[0m     \u001b[38;5;28;01mif\u001b[39;00m assert_fingerprint:\n",
      "File \u001b[0;32m/opt/anaconda3/lib/python3.12/site-packages/urllib3/util/ssl_.py:480\u001b[0m, in \u001b[0;36mssl_wrap_socket\u001b[0;34m(sock, keyfile, certfile, cert_reqs, ca_certs, server_hostname, ssl_version, ciphers, ssl_context, ca_cert_dir, key_password, ca_cert_data, tls_in_tls)\u001b[0m\n\u001b[1;32m    476\u001b[0m         context\u001b[38;5;241m.\u001b[39mload_cert_chain(certfile, keyfile, key_password)\n\u001b[1;32m    478\u001b[0m context\u001b[38;5;241m.\u001b[39mset_alpn_protocols(ALPN_PROTOCOLS)\n\u001b[0;32m--> 480\u001b[0m ssl_sock \u001b[38;5;241m=\u001b[39m _ssl_wrap_socket_impl(sock, context, tls_in_tls, server_hostname)\n\u001b[1;32m    481\u001b[0m \u001b[38;5;28;01mreturn\u001b[39;00m ssl_sock\n",
      "File \u001b[0;32m/opt/anaconda3/lib/python3.12/site-packages/urllib3/util/ssl_.py:524\u001b[0m, in \u001b[0;36m_ssl_wrap_socket_impl\u001b[0;34m(sock, ssl_context, tls_in_tls, server_hostname)\u001b[0m\n\u001b[1;32m    521\u001b[0m     SSLTransport\u001b[38;5;241m.\u001b[39m_validate_ssl_context_for_tls_in_tls(ssl_context)\n\u001b[1;32m    522\u001b[0m     \u001b[38;5;28;01mreturn\u001b[39;00m SSLTransport(sock, ssl_context, server_hostname)\n\u001b[0;32m--> 524\u001b[0m \u001b[38;5;28;01mreturn\u001b[39;00m ssl_context\u001b[38;5;241m.\u001b[39mwrap_socket(sock, server_hostname\u001b[38;5;241m=\u001b[39mserver_hostname)\n",
      "File \u001b[0;32m/opt/anaconda3/lib/python3.12/ssl.py:455\u001b[0m, in \u001b[0;36mSSLContext.wrap_socket\u001b[0;34m(self, sock, server_side, do_handshake_on_connect, suppress_ragged_eofs, server_hostname, session)\u001b[0m\n\u001b[1;32m    449\u001b[0m \u001b[38;5;28;01mdef\u001b[39;00m \u001b[38;5;21mwrap_socket\u001b[39m(\u001b[38;5;28mself\u001b[39m, sock, server_side\u001b[38;5;241m=\u001b[39m\u001b[38;5;28;01mFalse\u001b[39;00m,\n\u001b[1;32m    450\u001b[0m                 do_handshake_on_connect\u001b[38;5;241m=\u001b[39m\u001b[38;5;28;01mTrue\u001b[39;00m,\n\u001b[1;32m    451\u001b[0m                 suppress_ragged_eofs\u001b[38;5;241m=\u001b[39m\u001b[38;5;28;01mTrue\u001b[39;00m,\n\u001b[1;32m    452\u001b[0m                 server_hostname\u001b[38;5;241m=\u001b[39m\u001b[38;5;28;01mNone\u001b[39;00m, session\u001b[38;5;241m=\u001b[39m\u001b[38;5;28;01mNone\u001b[39;00m):\n\u001b[1;32m    453\u001b[0m     \u001b[38;5;66;03m# SSLSocket class handles server_hostname encoding before it calls\u001b[39;00m\n\u001b[1;32m    454\u001b[0m     \u001b[38;5;66;03m# ctx._wrap_socket()\u001b[39;00m\n\u001b[0;32m--> 455\u001b[0m     \u001b[38;5;28;01mreturn\u001b[39;00m \u001b[38;5;28mself\u001b[39m\u001b[38;5;241m.\u001b[39msslsocket_class\u001b[38;5;241m.\u001b[39m_create(\n\u001b[1;32m    456\u001b[0m         sock\u001b[38;5;241m=\u001b[39msock,\n\u001b[1;32m    457\u001b[0m         server_side\u001b[38;5;241m=\u001b[39mserver_side,\n\u001b[1;32m    458\u001b[0m         do_handshake_on_connect\u001b[38;5;241m=\u001b[39mdo_handshake_on_connect,\n\u001b[1;32m    459\u001b[0m         suppress_ragged_eofs\u001b[38;5;241m=\u001b[39msuppress_ragged_eofs,\n\u001b[1;32m    460\u001b[0m         server_hostname\u001b[38;5;241m=\u001b[39mserver_hostname,\n\u001b[1;32m    461\u001b[0m         context\u001b[38;5;241m=\u001b[39m\u001b[38;5;28mself\u001b[39m,\n\u001b[1;32m    462\u001b[0m         session\u001b[38;5;241m=\u001b[39msession\n\u001b[1;32m    463\u001b[0m     )\n",
      "File \u001b[0;32m/opt/anaconda3/lib/python3.12/ssl.py:1042\u001b[0m, in \u001b[0;36mSSLSocket._create\u001b[0;34m(cls, sock, server_side, do_handshake_on_connect, suppress_ragged_eofs, server_hostname, context, session)\u001b[0m\n\u001b[1;32m   1039\u001b[0m             \u001b[38;5;28;01mif\u001b[39;00m timeout \u001b[38;5;241m==\u001b[39m \u001b[38;5;241m0.0\u001b[39m:\n\u001b[1;32m   1040\u001b[0m                 \u001b[38;5;66;03m# non-blocking\u001b[39;00m\n\u001b[1;32m   1041\u001b[0m                 \u001b[38;5;28;01mraise\u001b[39;00m \u001b[38;5;167;01mValueError\u001b[39;00m(\u001b[38;5;124m\"\u001b[39m\u001b[38;5;124mdo_handshake_on_connect should not be specified for non-blocking sockets\u001b[39m\u001b[38;5;124m\"\u001b[39m)\n\u001b[0;32m-> 1042\u001b[0m             \u001b[38;5;28mself\u001b[39m\u001b[38;5;241m.\u001b[39mdo_handshake()\n\u001b[1;32m   1043\u001b[0m \u001b[38;5;28;01mexcept\u001b[39;00m:\n\u001b[1;32m   1044\u001b[0m     \u001b[38;5;28;01mtry\u001b[39;00m:\n",
      "File \u001b[0;32m/opt/anaconda3/lib/python3.12/ssl.py:1320\u001b[0m, in \u001b[0;36mSSLSocket.do_handshake\u001b[0;34m(self, block)\u001b[0m\n\u001b[1;32m   1318\u001b[0m     \u001b[38;5;28;01mif\u001b[39;00m timeout \u001b[38;5;241m==\u001b[39m \u001b[38;5;241m0.0\u001b[39m \u001b[38;5;129;01mand\u001b[39;00m block:\n\u001b[1;32m   1319\u001b[0m         \u001b[38;5;28mself\u001b[39m\u001b[38;5;241m.\u001b[39msettimeout(\u001b[38;5;28;01mNone\u001b[39;00m)\n\u001b[0;32m-> 1320\u001b[0m     \u001b[38;5;28mself\u001b[39m\u001b[38;5;241m.\u001b[39m_sslobj\u001b[38;5;241m.\u001b[39mdo_handshake()\n\u001b[1;32m   1321\u001b[0m \u001b[38;5;28;01mfinally\u001b[39;00m:\n\u001b[1;32m   1322\u001b[0m     \u001b[38;5;28mself\u001b[39m\u001b[38;5;241m.\u001b[39msettimeout(timeout)\n",
      "\u001b[0;31mKeyboardInterrupt\u001b[0m: "
     ]
    }
   ],
   "source": [
    "from selenium import webdriver\n",
    "from selenium.webdriver.common.by import By\n",
    "from selenium.webdriver.support.ui import WebDriverWait\n",
    "from selenium.webdriver.support import expected_conditions as EC\n",
    "from webdriver_manager.firefox import GeckoDriverManager\n",
    "from selenium.webdriver.firefox.service import Service\n",
    "\n",
    "users = [\"Middleeasteye\",\n",
    "         \"Letstalkpalestine\",\n",
    "         \"Nationalsjp\"]\n",
    "\n",
    "class User:\n",
    "    def __init__(self, username: str):\n",
    "        self.username = username\n",
    "    \n",
    "    def user_details(self):\n",
    "        driver = webdriver.Firefox(service=Service(GeckoDriverManager().install()))\n",
    "        \n",
    "        try:\n",
    "            driver.get(f\"https://www.instagram.com/{self.username}/\")\n",
    "            \n",
    "            #Processing Cookies\n",
    "            try:\n",
    "                cookie_accept_button = WebDriverWait(driver, 10).until(\n",
    "                    EC.element_to_be_clickable((By.XPATH, \"//button[text()='Allow all cookies']\"))\n",
    "                )\n",
    "                cookie_accept_button.click()\n",
    "                print(\"Cookies agreed\")\n",
    "            except Exception:\n",
    "                print(\"No cookies options.\")\n",
    "            \n",
    "            wait = WebDriverWait(driver, 180)\n",
    "            account_details = wait.until(\n",
    "                EC.presence_of_all_elements_located(\n",
    "                    (By.XPATH, '//span[@class=\"_ac2a\"]')\n",
    "                )\n",
    "            )\n",
    "            return {\n",
    "                \"Username\": self.username,\n",
    "                \"Number of Posts\": account_details[0].text,\n",
    "                \"Number of Followers\": account_details[1].text,\n",
    "                \"Number of Following\": account_details[2].text,\n",
    "            }\n",
    "\n",
    "        except Exception as e:\n",
    "            message = f\"{self.username} not found or an error occurred: {e}\"\n",
    "            return {\"Username\": self.username, \"data\": None, \"message\": message}\n",
    "        finally:\n",
    "            driver.quit()\n",
    "            \n",
    "for username in users:\n",
    "    user = User(username=username)\n",
    "    user_data = user.user_details()\n",
    "    \n",
    "    print(\"--- User Data ---\")\n",
    "    print(user_data)\n",
    "    print(\"-----------------\")"
   ]
  },
  {
   "cell_type": "code",
   "execution_count": null,
   "metadata": {},
   "outputs": [],
   "source": []
  },
  {
   "cell_type": "markdown",
   "metadata": {},
   "source": [
    "### IG"
   ]
  },
  {
   "cell_type": "markdown",
   "metadata": {
    "id": "4OW60dwI8AfC"
   },
   "source": [
    "#### (1) Scrapefly"
   ]
  },
  {
   "cell_type": "code",
   "execution_count": 3,
   "metadata": {
    "id": "Rqfu-MCb7Drp"
   },
   "outputs": [],
   "source": [
    "import json\n",
    "import httpx\n",
    "import time\n",
    "import pandas as pd"
   ]
  },
  {
   "cell_type": "code",
   "execution_count": 4,
   "metadata": {
    "id": "3ztMkU3x8MkU"
   },
   "outputs": [],
   "source": [
    "client = httpx.Client(\n",
    "    headers={\n",
    "        # this is internal ID of an instegram backend app. It doesn't change often.\n",
    "        \"x-ig-app-id\": \"936619743392459\",\n",
    "        # use browser-like features\n",
    "        \"User-Agent\": \"Mozilla/5.0 (Windows NT 10.0; Win64; x64) AppleWebKit/537.36 (KHTML, like Gecko) Chrome/62.0.3202.94 Safari/537.36\",\n",
    "        \"Accept-Language\": \"en-US,en;q=0.9,ru;q=0.8\",\n",
    "        \"Accept-Encoding\": \"gzip, deflate, br\",\n",
    "        \"Accept\": \"*/*\",\n",
    "    }\n",
    ")"
   ]
  },
  {
   "cell_type": "code",
   "execution_count": 5,
   "metadata": {
    "id": "sHKSoITV8TXO"
   },
   "outputs": [],
   "source": [
    "def scrape_user(username: str):\n",
    "    try:\n",
    "        response = client.get(\n",
    "            f\"https://i.instagram.com/api/v1/users/web_profile_info/?username={username}\",\n",
    "            timeout=10,\n",
    "        )\n",
    "        response.raise_for_status()\n",
    "        data = response.json()\n",
    "\n",
    "        if \"data\" not in data or \"user\" not in data[\"data\"]:\n",
    "            raise ValueError(f\"No user data found in the response for '{username}'\")\n",
    "\n",
    "        return data[\"data\"][\"user\"]\n",
    "\n",
    "    except httpx.HTTPStatusError as e:\n",
    "        print(f\"HTTP error for user '{username}': {e.response.status_code}\")\n",
    "        return None\n",
    "    except httpx.RequestError as e:\n",
    "        print(f\"Request error for user '{username}': {e}\")\n",
    "        return None\n",
    "    except json.JSONDecodeError:\n",
    "        print(f\"JSON decode error for user '{username}': Invalid JSON response.\")\n",
    "        return None\n",
    "    except ValueError as e:\n",
    "        print(f\"Data error for user '{username}': {e}\")\n",
    "        return None"
   ]
  },
  {
   "cell_type": "code",
   "execution_count": 6,
   "metadata": {
    "colab": {
     "base_uri": "https://localhost:8080/"
    },
    "id": "1YywDABM88Wb",
    "outputId": "e91370bd-802a-403b-def6-e539b6470bc9"
   },
   "outputs": [
    {
     "name": "stdout",
     "output_type": "stream",
     "text": [
      "Attempting to scrape user: Middleeasteye...\n",
      "Attempting to scrape user: Letstalkpalestine...\n",
      "Attempting to scrape user: Nationalsjp...\n",
      "\n",
      "DataFrame created successfully:\n",
      "            username             full_name  followers  following  posts  \\\n",
      "0      middleeasteye       Middle East Eye    2230378         65  25139   \n",
      "1  letstalkpalestine  Let’s Talk Palestine     994244        841    222   \n",
      "2        nationalsjp          National SJP      76810        895   2184   \n",
      "\n",
      "   is_private  is_verified  \n",
      "0       False         True  \n",
      "1       False        False  \n",
      "2       False        False  \n"
     ]
    }
   ],
   "source": [
    "IG_users = [\"Middleeasteye\",\n",
    "         \"Letstalkpalestine\",\n",
    "         \"Nationalsjp\"]\n",
    "\n",
    "user_data_list = []\n",
    "\n",
    "for user in IG_users:\n",
    "    print(f\"Attempting to scrape user: {user}...\")\n",
    "    user_data = scrape_user(user)\n",
    "\n",
    "    if user_data:\n",
    "        user_info = {\n",
    "            'username': user_data.get('username'),\n",
    "            'full_name': user_data.get('full_name'),\n",
    "            'followers': user_data.get('edge_followed_by', {}).get('count'),\n",
    "            'following': user_data.get('edge_follow', {}).get('count'),\n",
    "            'posts': user_data.get('edge_owner_to_timeline_media', {}).get('count'),\n",
    "            'is_private': user_data.get('is_private'),\n",
    "            'is_verified': user_data.get('is_verified')\n",
    "        }\n",
    "        user_data_list.append(user_info)\n",
    "\n",
    "    time.sleep(5)\n",
    "\n",
    "df = pd.DataFrame(user_data_list)\n",
    "\n",
    "print(\"\\nDataFrame created successfully:\")\n",
    "print(df.head())"
   ]
  },
  {
   "cell_type": "code",
   "execution_count": null,
   "metadata": {
    "id": "QfnFfGhfEz5X"
   },
   "outputs": [],
   "source": []
  },
  {
   "cell_type": "markdown",
   "metadata": {
    "id": "djA5Z14cIxYu"
   },
   "source": [
    "#### (2) Instaloader"
   ]
  },
  {
   "cell_type": "code",
   "execution_count": 9,
   "metadata": {
    "colab": {
     "base_uri": "https://localhost:8080/"
    },
    "id": "AVxugrGLIsnn",
    "outputId": "f63272d7-1397-4463-802c-02902ee62e23"
   },
   "outputs": [],
   "source": [
    "#pip install instaloader"
   ]
  },
  {
   "cell_type": "code",
   "execution_count": 7,
   "metadata": {
    "id": "yZig3nQII5Wl"
   },
   "outputs": [],
   "source": [
    "import instaloader\n",
    "import sys"
   ]
  },
  {
   "cell_type": "code",
   "execution_count": 8,
   "metadata": {
    "colab": {
     "base_uri": "https://localhost:8080/"
    },
    "id": "9NEf2Q_WJCJb",
    "outputId": "79311048-87f9-4391-fd16-92c43a7fab1b"
   },
   "outputs": [
    {
     "name": "stdout",
     "output_type": "stream",
     "text": [
      "Downloading data for user middleeasteye...\n"
     ]
    },
    {
     "name": "stderr",
     "output_type": "stream",
     "text": [
      "JSON Query to graphql/query: 403 Forbidden when accessing https://www.instagram.com/graphql/query [retrying; skip with ^C]\n",
      "JSON Query to graphql/query: 401 Unauthorized - \"fail\" status, message \"Please wait a few minutes before you try again.\" when accessing https://www.instagram.com/graphql/query?variables=%7B%22data%22%3A%7B%22count%22%3A12%2C%22include_relationship_info%22%3Atrue%2C%22latest_besties_reel_media%22%3Atrue%2C%22latest_reel_media%22%3Atrue%7D%2C%22username%22%3A%22middleeasteye%22%2C%22__relay_internal__pv__PolarisFeedShareMenurelayprovider%22%3Afalse%7D&doc_id=7898261790222653&server_timestamps=true [retrying; skip with ^C]\n"
     ]
    },
    {
     "name": "stdout",
     "output_type": "stream",
     "text": [
      "Error while processing user Middleeasteye: JSON Query to graphql/query: 401 Unauthorized - \"fail\" status, message \"Please wait a few minutes before you try again.\" when accessing https://www.instagram.com/graphql/query?variables=%7B%22data%22%3A%7B%22count%22%3A12%2C%22include_relationship_info%22%3Atrue%2C%22latest_besties_reel_media%22%3Atrue%2C%22latest_reel_media%22%3Atrue%7D%2C%22username%22%3A%22middleeasteye%22%2C%22__relay_internal__pv__PolarisFeedShareMenurelayprovider%22%3Afalse%7D&doc_id=7898261790222653&server_timestamps=true\n",
      "Downloading data for user letstalkpalestine...\n"
     ]
    },
    {
     "name": "stderr",
     "output_type": "stream",
     "text": [
      "JSON Query to graphql/query: 403 Forbidden when accessing https://www.instagram.com/graphql/query [retrying; skip with ^C]\n",
      "JSON Query to graphql/query: 401 Unauthorized - \"fail\" status, message \"Please wait a few minutes before you try again.\" when accessing https://www.instagram.com/graphql/query?variables=%7B%22data%22%3A%7B%22count%22%3A12%2C%22include_relationship_info%22%3Atrue%2C%22latest_besties_reel_media%22%3Atrue%2C%22latest_reel_media%22%3Atrue%7D%2C%22username%22%3A%22letstalkpalestine%22%2C%22__relay_internal__pv__PolarisFeedShareMenurelayprovider%22%3Afalse%7D&doc_id=7898261790222653&server_timestamps=true [retrying; skip with ^C]\n"
     ]
    },
    {
     "name": "stdout",
     "output_type": "stream",
     "text": [
      "Error while processing user Letstalkpalestine: JSON Query to graphql/query: 401 Unauthorized - \"fail\" status, message \"Please wait a few minutes before you try again.\" when accessing https://www.instagram.com/graphql/query?variables=%7B%22data%22%3A%7B%22count%22%3A12%2C%22include_relationship_info%22%3Atrue%2C%22latest_besties_reel_media%22%3Atrue%2C%22latest_reel_media%22%3Atrue%7D%2C%22username%22%3A%22letstalkpalestine%22%2C%22__relay_internal__pv__PolarisFeedShareMenurelayprovider%22%3Afalse%7D&doc_id=7898261790222653&server_timestamps=true\n",
      "Downloading data for user nationalsjp...\n"
     ]
    },
    {
     "name": "stderr",
     "output_type": "stream",
     "text": [
      "JSON Query to graphql/query: 403 Forbidden when accessing https://www.instagram.com/graphql/query [retrying; skip with ^C]\n",
      "JSON Query to graphql/query: 401 Unauthorized - \"fail\" status, message \"Please wait a few minutes before you try again.\" when accessing https://www.instagram.com/graphql/query?variables=%7B%22data%22%3A%7B%22count%22%3A12%2C%22include_relationship_info%22%3Atrue%2C%22latest_besties_reel_media%22%3Atrue%2C%22latest_reel_media%22%3Atrue%7D%2C%22username%22%3A%22nationalsjp%22%2C%22__relay_internal__pv__PolarisFeedShareMenurelayprovider%22%3Afalse%7D&doc_id=7898261790222653&server_timestamps=true [retrying; skip with ^C]\n"
     ]
    },
    {
     "name": "stdout",
     "output_type": "stream",
     "text": [
      "Error while processing user Nationalsjp: JSON Query to graphql/query: 401 Unauthorized - \"fail\" status, message \"Please wait a few minutes before you try again.\" when accessing https://www.instagram.com/graphql/query?variables=%7B%22data%22%3A%7B%22count%22%3A12%2C%22include_relationship_info%22%3Atrue%2C%22latest_besties_reel_media%22%3Atrue%2C%22latest_reel_media%22%3Atrue%7D%2C%22username%22%3A%22nationalsjp%22%2C%22__relay_internal__pv__PolarisFeedShareMenurelayprovider%22%3Afalse%7D&doc_id=7898261790222653&server_timestamps=true\n"
     ]
    }
   ],
   "source": [
    "IG_users = [\"Middleeasteye\",\n",
    "         \"Letstalkpalestine\",\n",
    "         \"Nationalsjp\"]\n",
    "\n",
    "L = instaloader.Instaloader()\n",
    "\n",
    "# Loop through each username in the list\n",
    "for username in IG_users:\n",
    "  try:\n",
    "    # Get the Profile object for the current username\n",
    "    profile = instaloader.Profile.from_username(L.context, username)\n",
    "\n",
    "    print(f\"Downloading data for user {profile.username}...\")\n",
    "\n",
    "    # Iterate through all posts of the profile and download each one\n",
    "    for post in profile.get_posts():\n",
    "        L.download_post(post, username)\n",
    "\n",
    "    print(f\"Data download for {profile.username} is complete!\")\n",
    "\n",
    "  except Exception as e:\n",
    "    # Print an error message but continue to the next user\n",
    "    print(f\"Error while processing user {username}: {e}\")\n"
   ]
  },
  {
   "cell_type": "code",
   "execution_count": 13,
   "metadata": {
    "id": "4xs503pnRfxX"
   },
   "outputs": [
    {
     "name": "stdout",
     "output_type": "stream",
     "text": [
      "Account @letstalkpalestine is public and accessible via the API.\n",
      "Status for @letstalkpalestine: Public and Accessible\n",
      "\n",
      "Account @nationalsjp is public and accessible via the API.\n",
      "Status for @nationalsjp: Public and Accessible\n",
      "\n",
      "Account @this_user_does_not_exist_123 is private.\n",
      "Status for @this_user_does_not_exist_123: Private\n",
      "\n"
     ]
    },
    {
     "name": "stderr",
     "output_type": "stream",
     "text": [
      "JSON Query to api/v1/users/web_profile_info/?username=this_user_does_not_exist_123456: 404 Not Found when accessing https://i.instagram.com/api/v1/users/web_profile_info/?username=this_user_does_not_exist_123456 [retrying; skip with ^C]\n",
      "JSON Query to api/v1/users/web_profile_info/?username=this_user_does_not_exist_123456: 404 Not Found when accessing https://i.instagram.com/api/v1/users/web_profile_info/?username=this_user_does_not_exist_123456 [retrying; skip with ^C]\n",
      "JSON Query to web/search/topsearch/: 401 Unauthorized - \"fail\" status, message \"Server Error\" when accessing https://www.instagram.com/web/search/topsearch/?context=blended&query=this_user_does_not_exist_123456&include_reel=False&__a=1 [retrying; skip with ^C]\n",
      "JSON Query to web/search/topsearch/: 401 Unauthorized - \"fail\" status, message \"Server Error\" when accessing https://www.instagram.com/web/search/topsearch/?context=blended&query=this_user_does_not_exist_123456&include_reel=False&__a=1 [retrying; skip with ^C]\n"
     ]
    },
    {
     "name": "stdout",
     "output_type": "stream",
     "text": [
      "An unknown error occurred while checking @this_user_does_not_exist_123456: JSON Query to web/search/topsearch/: 401 Unauthorized - \"fail\" status, message \"Server Error\" when accessing https://www.instagram.com/web/search/topsearch/?context=blended&query=this_user_does_not_exist_123456&include_reel=False&__a=1\n",
      "Status for @this_user_does_not_exist_123456: Error\n",
      "\n"
     ]
    }
   ],
   "source": [
    "def check_instagram_account_status(username):\n",
    "    \"\"\"\n",
    "    Checks the status of an Instagram account.\n",
    "    \"\"\"\n",
    "    L = instaloader.Instaloader()\n",
    "    try:\n",
    "        # Get the Profile object from the username\n",
    "        profile = instaloader.Profile.from_username(L.context, username)\n",
    "\n",
    "        # Check if the account is private\n",
    "        if profile.is_private:\n",
    "            print(f\"Account @{username} is private.\")\n",
    "            return \"Private\"\n",
    "\n",
    "        # Check if the account is verified\n",
    "        if profile.is_verified:\n",
    "            print(f\"Account @{username} is verified.\")\n",
    "        \n",
    "        # If no exceptions, the account is public and accessible\n",
    "        print(f\"Account @{username} is public and accessible via the API.\")\n",
    "        return \"Public and Accessible\"\n",
    "\n",
    "    except instaloader.exceptions.ProfileNotExistsException:\n",
    "        # This exception is raised if the account does not exist or is suspended\n",
    "        print(f\"Account @{username} does not exist or is suspended.\")\n",
    "        return \"Not Exists or Suspended\"\n",
    "    except Exception as e:\n",
    "        # Catch any other unknown errors\n",
    "        print(f\"An unknown error occurred while checking @{username}: {e}\")\n",
    "        return \"Error\"\n",
    "\n",
    "# List of Instagram usernames to check\n",
    "IG_users = [\"letstalkpalestine\", \"nationalsjp\", \"this_user_does_not_exist_123\", \"this_user_does_not_exist_123456\"]\n",
    "\n",
    "for user in IG_users:\n",
    "    status = check_instagram_account_status(user)\n",
    "    print(f\"Status for @{user}: {status}\\n\")"
   ]
  },
  {
   "cell_type": "code",
   "execution_count": null,
   "metadata": {},
   "outputs": [],
   "source": []
  },
  {
   "cell_type": "markdown",
   "metadata": {},
   "source": [
    "### Twitter"
   ]
  },
  {
   "cell_type": "markdown",
   "metadata": {},
   "source": [
    "#### （1）Twikit"
   ]
  },
  {
   "cell_type": "code",
   "execution_count": 6,
   "metadata": {},
   "outputs": [],
   "source": [
    "#pip install twikit"
   ]
  },
  {
   "cell_type": "code",
   "execution_count": 14,
   "metadata": {},
   "outputs": [],
   "source": [
    "import asyncio\n",
    "from twikit.guest import GuestClient"
   ]
  },
  {
   "cell_type": "code",
   "execution_count": 23,
   "metadata": {},
   "outputs": [
    {
     "name": "stdout",
     "output_type": "stream",
     "text": [
      "--- Getting latest 10 tweets from @Elon Musk ---\n",
      "Successfully retrieved 98 tweets.\n",
      "------------------------------\n",
      "Tweet 1 (ID: 1519480761749016577)\n",
      "  Text: Next I’m buying Coca-Cola to put the cocaine back in\n",
      "  Likes: 4319243\n",
      "------------------------------\n",
      "Tweet 2 (ID: 1812258574049157405)\n",
      "  Text: https://t.co/6eOgN9UdOy\n",
      "  Likes: 3329509\n",
      "------------------------------\n",
      "Tweet 3 (ID: 1518623997054918657)\n",
      "  Text: I hope that even my worst critics remain on Twitter, because that is what free speech means\n",
      "  Likes: 2936447\n",
      "------------------------------\n",
      "Tweet 4 (ID: 1854026234339938528)\n",
      "  Text: 🇺🇸🇺🇸The future is gonna be so 🔥 🇺🇸🇺🇸 https://t.co/x56cqb6oT5\n",
      "  Likes: 2607387\n",
      "------------------------------\n",
      "Tweet 5 (ID: 1519495072802390016)\n",
      "  Text: Let’s make Twitter maximum fun!\n",
      "  Likes: 2401069\n",
      "------------------------------\n",
      "Tweet 6 (ID: 1518677066325053441)\n",
      "  Text: 🚀💫♥️ Yesss!!! ♥️💫🚀 https://t.co/0T9HzUHuh6\n",
      "  Likes: 2370545\n",
      "------------------------------\n",
      "Tweet 7 (ID: 1519495982723084290)\n",
      "  Text: Listen, I can’t do miracles ok https://t.co/z7dvLMUXy8\n",
      "  Likes: 2323338\n",
      "------------------------------\n",
      "Tweet 8 (ID: 1854201929519247803)\n",
      "  Text: It is morning in America again https://t.co/GNTE0cUWoc\n",
      "  Likes: 2352222\n",
      "------------------------------\n",
      "Tweet 9 (ID: 1812256998588662068)\n",
      "  Text: I fully endorse President Trump and hope for his rapid recovery https://t.co/ZdxkF63EqF\n",
      "  Likes: 2282840\n",
      "------------------------------\n",
      "Tweet 10 (ID: 1585841080431321088)\n",
      "  Text: the bird is freed\n",
      "  Likes: 2235888\n",
      "------------------------------\n",
      "Tweet 11 (ID: 1854034776815972649)\n",
      "  Text: Let that sink in https://t.co/XvYFtDrhRm\n",
      "  Likes: 2210061\n",
      "------------------------------\n",
      "Tweet 12 (ID: 1586104694421659648)\n",
      "  Text: Comedy is now legal on Twitter\n",
      "  Likes: 2131165\n",
      "------------------------------\n",
      "Tweet 13 (ID: 1820685675899072930)\n",
      "  Text: https://t.co/FMCQKSB2u6\n",
      "  Likes: 2110516\n",
      "------------------------------\n",
      "Tweet 14 (ID: 1593459801966538755)\n",
      "  Text: https://t.co/rbwbsLA1ZG\n",
      "  Likes: 1887732\n",
      "------------------------------\n",
      "Tweet 15 (ID: 1823742501884453312)\n",
      "  Text: Haters will say this is AI  🕺🕺 https://t.co/vqWVxiYXeD\n",
      "  Likes: 1799946\n",
      "------------------------------\n",
      "Tweet 16 (ID: 1819067673818681724)\n",
      "  Text: Good\n",
      "  Likes: 1779591\n",
      "------------------------------\n",
      "Tweet 17 (ID: 1818986936310075743)\n",
      "  Text: Absolutely\n",
      "  Likes: 1792642\n",
      "------------------------------\n",
      "Tweet 18 (ID: 1523465632502906880)\n",
      "  Text: If I die under mysterious circumstances, it’s been nice knowin ya\n",
      "  Likes: 1707569\n",
      "------------------------------\n",
      "Tweet 19 (ID: 1587894226695884800)\n",
      "  Text: https://t.co/kGncG7Hs3M\n",
      "  Likes: 1675776\n",
      "------------------------------\n",
      "Tweet 20 (ID: 1854546155381617119)\n",
      "  Text: They say red light helps you sleep better https://t.co/XvVFnmcF9O\n",
      "  Likes: 1683502\n",
      "------------------------------\n",
      "Tweet 21 (ID: 1685096284275802112)\n",
      "  Text: https://t.co/XEydRiST9D\n",
      "  Likes: 1525944\n",
      "------------------------------\n",
      "Tweet 22 (ID: 1519020176884305920)\n",
      "  Text: The extreme antibody reaction from those who fear free speech says it all\n",
      "  Likes: 1502372\n",
      "------------------------------\n",
      "Tweet 23 (ID: 1706586107335311542)\n",
      "  Text: https://t.co/N9i79HllZv\n",
      "  Likes: 1468594\n",
      "------------------------------\n",
      "Tweet 24 (ID: 1670234980776132608)\n",
      "  Text: Oh hi lol https://t.co/pLxkLDu0Qs\n",
      "  Likes: 1429663\n",
      "------------------------------\n",
      "Tweet 25 (ID: 1765047740327702665)\n",
      "  Text: If you’re reading this post, it’s because our servers are working\n",
      "  Likes: 1449662\n",
      "------------------------------\n",
      "Tweet 26 (ID: 1519735033950470144)\n",
      "  Text: https://t.co/Q9OjlJhi7f\n",
      "  Likes: 1423917\n",
      "------------------------------\n",
      "Tweet 27 (ID: 1519415674111672325)\n",
      "  Text: For Twitter to deserve public trust, it must be politically neutral, which effectively means upsetting the far right and the far left equally\n",
      "  Likes: 1408526\n",
      "------------------------------\n",
      "Tweet 28 (ID: 1479236333516165121)\n",
      "  Text: Starlinks with “lasers” deployed to orbit https://t.co/Y1eg9gl7sJ\n",
      "  Likes: 836643\n",
      "------------------------------\n",
      "Tweet 29 (ID: 1236029449042198528)\n",
      "  Text: The coronavirus panic is dumb\n",
      "  Likes: 1367623\n",
      "------------------------------\n",
      "Tweet 30 (ID: 1854048115206078507)\n",
      "  Text: The future is gonna be fantastic https://t.co/I46tFsHxs3\n",
      "  Likes: 1409873\n",
      "------------------------------\n",
      "Tweet 31 (ID: 1765048551023734801)\n",
      "  Text: https://t.co/VTOACNfb3E\n",
      "  Likes: 1375487\n",
      "------------------------------\n",
      "Tweet 32 (ID: 1625368108461613057)\n",
      "  Text: https://t.co/iZUukCVrl5\n",
      "  Likes: 1320633\n",
      "------------------------------\n",
      "Tweet 33 (ID: 1804188196546449660)\n",
      "  Text: https://t.co/Z5nzuQlVFA\n",
      "  Likes: 1286386\n",
      "------------------------------\n",
      "Tweet 34 (ID: 1858184885493485672)\n",
      "  Text: Guess who? https://t.co/ExzlBOGSBz\n",
      "  Likes: 1363840\n",
      "------------------------------\n",
      "Tweet 35 (ID: 1519469891455234048)\n",
      "  Text: Twitter DMs should have end to end encryption like Signal, so no one can spy on or hack your messages\n",
      "  Likes: 1320411\n",
      "------------------------------\n",
      "Tweet 36 (ID: 1820221050904359331)\n",
      "  Text: 😬 https://t.co/RQk2QOAFPn\n",
      "  Likes: 1334606\n",
      "------------------------------\n",
      "Tweet 37 (ID: 1854279370862444828)\n",
      "  Text: Huge thank you to everyone who supported this platform and our mutual quest to support freedom of speech!\n",
      "  Likes: 1352996\n",
      "------------------------------\n",
      "Tweet 38 (ID: 1594191387519373313)\n",
      "  Text: Twitter is ALIVE\n",
      "  Likes: 1292331\n",
      "------------------------------\n",
      "Tweet 39 (ID: 1884670471201055192)\n",
      "  Text: https://t.co/GihPM8F9fW\n",
      "  Likes: 1347858\n",
      "------------------------------\n",
      "Tweet 40 (ID: 1931896196836081975)\n",
      "  Text: This is not ok https://t.co/feOtg6f6ge\n",
      "  Likes: 1353557\n",
      "------------------------------\n",
      "Tweet 41 (ID: 1517707521343082496)\n",
      "  Text: in case u need to lose a boner fast https://t.co/fcHiaXKCJi\n",
      "  Likes: 1274371\n",
      "------------------------------\n",
      "Tweet 42 (ID: 1667289678612156416)\n",
      "  Text: https://t.co/g9gS4MUIVL\n",
      "  Likes: 1274619\n",
      "------------------------------\n",
      "Tweet 43 (ID: 1880040599761596689)\n",
      "  Text: Success is uncertain, but entertainment is guaranteed! ✨ \n",
      " https://t.co/nn3PiP8XwG\n",
      "  Likes: 1303139\n",
      "------------------------------\n",
      "Tweet 44 (ID: 1531647849599057921)\n",
      "  Text: https://t.co/G83vCrHHJf\n",
      "  Likes: 1256296\n",
      "------------------------------\n",
      "Tweet 45 (ID: 1585341984679469056)\n",
      "  Text: Entering Twitter HQ – let that sink in! https://t.co/D68z4K2wq7\n",
      "  Likes: 1262338\n",
      "------------------------------\n",
      "Tweet 46 (ID: 1823073478481965199)\n",
      "  Text: https://t.co/BMj1ePI3Kx\n",
      "  Likes: 1251937\n",
      "------------------------------\n",
      "Tweet 47 (ID: 1842730813885948001)\n",
      "  Text: https://t.co/3rp9bd61kX\n",
      "  Likes: 1276823\n",
      "------------------------------\n",
      "Tweet 48 (ID: 1865285753569177656)\n",
      "  Text: https://t.co/eYTt40ahVq\n",
      "  Likes: 1266950\n",
      "------------------------------\n",
      "Tweet 49 (ID: 1812874506438140090)\n",
      "  Text: https://t.co/SbOyKFF1RP\n",
      "  Likes: 1209662\n",
      "------------------------------\n",
      "Tweet 50 (ID: 1588750686006947840)\n",
      "  Text: Trash me all day, but it’ll cost $8\n",
      "  Likes: 1218366\n",
      "------------------------------\n",
      "Tweet 51 (ID: 1854045379408326909)\n",
      "  Text: You are the media now\n",
      "  Likes: 1255556\n",
      "------------------------------\n",
      "Tweet 52 (ID: 1768693242894119188)\n",
      "  Text: https://t.co/YPfV3mlsOZ\n",
      "  Likes: 1168849\n",
      "------------------------------\n",
      "Tweet 53 (ID: 1521202951230046210)\n",
      "  Text: As I was saying … https://t.co/tsGz6fCWuW\n",
      "  Likes: 1199187\n",
      "------------------------------\n",
      "Tweet 54 (ID: 1590755506112823296)\n",
      "  Text: I love when people complain about Twitter … on Twitter 🤣🤣\n",
      "  Likes: 1188739\n",
      "------------------------------\n",
      "Tweet 55 (ID: 1794022138757648810)\n",
      "  Text: https://t.co/HAhqxoTcvi\n",
      "  Likes: 1132387\n",
      "------------------------------\n",
      "Tweet 56 (ID: 1601894132573605888)\n",
      "  Text: My pronouns are Prosecute/Fauci\n",
      "  Likes: 1170504\n",
      "------------------------------\n",
      "Tweet 57 (ID: 1708923551607099569)\n",
      "  Text: https://t.co/NEX0wrScDo\n",
      "  Likes: 1157230\n",
      "------------------------------\n",
      "Tweet 58 (ID: 1625695877326340102)\n",
      "  Text: The new CEO of Twitter is amazing https://t.co/yBqWFUDIQH\n",
      "  Likes: 1157114\n",
      "------------------------------\n",
      "Tweet 59 (ID: 1815187468691316946)\n",
      "  Text: High time for an AI fashion show https://t.co/ra6cHQ4AAu\n",
      "  Likes: 1152031\n",
      "------------------------------\n",
      "Tweet 60 (ID: 1710167681477796046)\n",
      "  Text: https://t.co/0FjhdS9Zmw\n",
      "  Likes: 1137392\n",
      "------------------------------\n",
      "Tweet 61 (ID: 1601624795585486848)\n",
      "  Text: 🇲🇦🇲🇦 Congrats Morocco!! 🇲🇦🇲🇦\n",
      "  Likes: 1138003\n",
      "------------------------------\n",
      "Tweet 62 (ID: 1825723913051000851)\n",
      "  Text: I am willing to serve https://t.co/BJhGbcA2e0\n",
      "  Likes: 1135684\n",
      "------------------------------\n",
      "Tweet 63 (ID: 1853612871877329188)\n",
      "  Text: https://t.co/UlhNZ56Z6D\n",
      "  Likes: 1165831\n",
      "------------------------------\n",
      "Tweet 64 (ID: 1845446365717156265)\n",
      "  Text: The tower has caught the rocket!!\n",
      " https://t.co/CPXsHJBdUh\n",
      "  Likes: 1162734\n",
      "------------------------------\n",
      "Tweet 65 (ID: 1855152953944162426)\n",
      "  Text: https://t.co/1h7veRzfGn\n",
      "  Likes: 1151535\n",
      "------------------------------\n",
      "Tweet 66 (ID: 1607997591870124032)\n",
      "  Text: I’m not brainwashed!! https://t.co/4kx61uu4yy\n",
      "  Likes: 1106548\n",
      "------------------------------\n",
      "Tweet 67 (ID: 1872080985451598039)\n",
      "  Text: https://t.co/nad63csUhQ\n",
      "  Likes: 1124170\n",
      "------------------------------\n",
      "Tweet 68 (ID: 1818027157370941827)\n",
      "  Text: Adios Dictatora Maduro\n",
      "  Likes: 1123132\n",
      "------------------------------\n",
      "Tweet 69 (ID: 1818349351636484215)\n",
      "  Text: This is real https://t.co/3KjTZiVJG0\n",
      "  Likes: 1105833\n",
      "------------------------------\n",
      "Tweet 70 (ID: 1941753397365051695)\n",
      "  Text: 😢 https://t.co/z3zYpnJN5t\n",
      "  Likes: 1161271\n",
      "------------------------------\n",
      "Tweet 71 (ID: 1874342693310259604)\n",
      "  Text: I have a good feeling about 2025 https://t.co/LLgTEkpNdP\n",
      "  Likes: 1117923\n",
      "------------------------------\n",
      "Tweet 72 (ID: 1688485935816581120)\n",
      "  Text: https://t.co/hDSTKPdQnG\n",
      "  Likes: 1083953\n",
      "------------------------------\n",
      "Tweet 73 (ID: 1530380264966434823)\n",
      "  Text: https://t.co/USLO967YsJ\n",
      "  Likes: 1081722\n",
      "------------------------------\n",
      "Tweet 74 (ID: 1514720245113577473)\n",
      "  Text: i♥️u\n",
      "  Likes: 1071506\n",
      "------------------------------\n",
      "Tweet 75 (ID: 1503287788652871680)\n",
      "  Text: https://t.co/Gw6xaw1u0N\n",
      "  Likes: 1072137\n",
      "------------------------------\n",
      "Tweet 76 (ID: 1686050455468621831)\n",
      "  Text: I ♥️ Canada https://t.co/95321VIi8r\n",
      "  Likes: 1058452\n",
      "------------------------------\n",
      "Tweet 77 (ID: 1520017094007476224)\n",
      "  Text: The far left hates everyone, themselves included!\n",
      "  Likes: 1068144\n",
      "------------------------------\n",
      "Tweet 78 (ID: 1778833124643983615)\n",
      "  Text: To an exciting &amp; inspiring future! https://t.co/WUIqN7B2F6\n",
      "  Likes: 1082929\n",
      "------------------------------\n",
      "Tweet 79 (ID: 1845725393786957985)\n",
      "  Text: https://t.co/TRbXqFpGpr\n",
      "  Likes: 1084710\n",
      "------------------------------\n",
      "Tweet 80 (ID: 1862168974756335860)\n",
      "  Text: https://t.co/LoeugQQXOI\n",
      "  Likes: 1080268\n",
      "------------------------------\n",
      "Tweet 81 (ID: 1053390822991790083)\n",
      "  Text: Had to been done ur welcome https://t.co/7jT0f9lqIS\n",
      "  Likes: 1024177\n",
      "------------------------------\n",
      "Tweet 82 (ID: 1855650251077722130)\n",
      "  Text: Must be a coincidence 🙄 https://t.co/npsMqqatx0\n",
      "  Likes: 1073844\n",
      "------------------------------\n",
      "Tweet 83 (ID: 1695180996696756559)\n",
      "  Text: https://t.co/gcSXLMwsua\n",
      "  Likes: 1038290\n",
      "------------------------------\n",
      "Tweet 84 (ID: 1813603548078202992)\n",
      "  Text: Texas https://t.co/iQq68InFi4\n",
      "  Likes: 1046131\n",
      "------------------------------\n",
      "Tweet 85 (ID: 1854003982387068929)\n",
      "  Text: Game, set and match\n",
      "  Likes: 1073867\n",
      "------------------------------\n",
      "Tweet 86 (ID: 1818028357432525289)\n",
      "  Text: The people of Venezuela have had enough of this clown 🤡\n",
      "  Likes: 1048531\n",
      "------------------------------\n",
      "Tweet 87 (ID: 1854047333958254597)\n",
      "  Text: The people of America gave @realDonaldTrump a crystal clear mandate for change tonight\n",
      "  Likes: 1065736\n",
      "------------------------------\n",
      "Tweet 88 (ID: 1685384125836849153)\n",
      "  Text: https://t.co/5YdlVQifRn\n",
      "  Likes: 1029374\n",
      "------------------------------\n",
      "Tweet 89 (ID: 1546344529460174849)\n",
      "  Text: https://t.co/JcLMee61wj\n",
      "  Likes: 1025159\n",
      "------------------------------\n",
      "Tweet 90 (ID: 1523658010241155073)\n",
      "  Text: Chocolate milk is insanely good. Just had some.\n",
      "  Likes: 1023531\n",
      "------------------------------\n",
      "Tweet 91 (ID: 1511982702819520512)\n",
      "  Text: https://t.co/TW2lLQakE5\n",
      "  Likes: 1024353\n",
      "------------------------------\n",
      "Tweet 92 (ID: 1851971913586786676)\n",
      "  Text: https://t.co/D3xwF6cWBr\n",
      "  Likes: 1044071\n",
      "------------------------------\n",
      "Tweet 93 (ID: 1830147680468607423)\n",
      "  Text: https://t.co/OYpEJy1Kct\n",
      "  Likes: 1010334\n",
      "------------------------------\n",
      "Tweet 94 (ID: 1817765530255659127)\n",
      "  Text: Wow, Google has a search ban on President Donald Trump! \n",
      "\n",
      "Election interference? https://t.co/dJzgVAAFZA\n",
      "  Likes: 996012\n",
      "------------------------------\n",
      "Tweet 95 (ID: 1587297137099931649)\n",
      "  Text: Halloween with my Mom https://t.co/xOAgNeeiNN\n",
      "  Likes: 1004170\n",
      "------------------------------\n",
      "Tweet 96 (ID: 1818031735902453793)\n",
      "  Text: El burro sabe mas que Maduro\n",
      "  Likes: 990311\n",
      "------------------------------\n",
      "Tweet 97 (ID: 1932695486684950962)\n",
      "  Text: I regret some of my posts about President @realDonaldTrump last week. They went too far.\n",
      "  Likes: 1063138\n",
      "------------------------------\n",
      "Tweet 98 (ID: 1822352993422901402)\n",
      "  Text: https://t.co/0vcCOU5ceE\n",
      "  Likes: 1020491\n",
      "------------------------------\n"
     ]
    }
   ],
   "source": [
    "client = GuestClient()\n",
    "\n",
    "async def main():\n",
    "    # Activate the client by generating a guest token.\n",
    "    await client.activate()\n",
    "\n",
    "    # Get user by screen name\n",
    "    user = await client.get_user_by_screen_name('elonmusk')\n",
    "    \n",
    "    print(f\"--- Getting latest 10 tweets from @{user.name} ---\")\n",
    "    \n",
    "    # Get the latest 10 tweets from the user\n",
    "    user_tweets = await client.get_user_tweets(user.id, count=10)\n",
    "    \n",
    "    if user_tweets:\n",
    "        print(f\"Successfully retrieved {len(user_tweets)} tweets.\")\n",
    "        print(\"-\" * 30)\n",
    "        \n",
    "        # Iterate through the list of tweets and print details\n",
    "        for i, tweet in enumerate(user_tweets):\n",
    "            print(f\"Tweet {i+1} (ID: {tweet.id})\")\n",
    "            print(f\"  Text: {tweet.text}\")\n",
    "            print(f\"  Likes: {tweet.favorite_count}\")\n",
    "            print(\"-\" * 30)\n",
    "    else:\n",
    "        print(f\"Could not find any tweets for @{user.name}.\")\n",
    "\n",
    "# In a Jupyter/IPython environment, you can use 'await main()'\n",
    "# If running as a script, use asyncio.run(main())\n",
    "try:\n",
    "    asyncio.run(main())\n",
    "except RuntimeError:\n",
    "    import nest_asyncio\n",
    "    nest_asyncio.apply()\n",
    "    asyncio.run(main())"
   ]
  },
  {
   "cell_type": "code",
   "execution_count": 21,
   "metadata": {},
   "outputs": [
    {
     "name": "stdout",
     "output_type": "stream",
     "text": [
      "An error occurred while checking @elonmusk: status: 404, message: \"\"\n",
      "Status for @elonmusk: Error\n",
      "\n",
      "An error occurred while checking @realDonaldTrump: status: 404, message: \"\"\n",
      "Status for @realDonaldTrump: Error\n",
      "\n",
      "An error occurred while checking @NASA: status: 404, message: \"\"\n",
      "Status for @NASA: Error\n",
      "\n",
      "An error occurred while checking @Twitter: status: 404, message: \"\"\n",
      "Status for @Twitter: Error\n",
      "\n",
      "An error occurred while checking @this_account_does_not_exist_xyz_123: status: 404, message: \"\"\n",
      "Status for @this_account_does_not_exist_xyz_123: Error\n",
      "\n"
     ]
    }
   ],
   "source": [
    "async def check_x_account_status(username):\n",
    "    \"\"\"\n",
    "    Checks the status of an X (Twitter) account.\n",
    "    \"\"\"\n",
    "    try:\n",
    "        # Activate the client by generating a guest token.\n",
    "        await client.activate()\n",
    "\n",
    "        # Get the user object by username.\n",
    "        user = await client.get_user_by_screen_name(username)\n",
    "\n",
    "        if user:\n",
    "            print(f\"Account @{username} exists.\")\n",
    "            # Check if the account is protected/private.\n",
    "            if user.protected:\n",
    "                print(f\"Account @{username} is protected (private).\")\n",
    "                return \"Protected\"\n",
    "            \n",
    "            # Check if the account is accessible.\n",
    "            print(f\"Account @{username} is public and accessible via the API.\")\n",
    "            \n",
    "            # Simulate search to check if it appears in autocomplete.\n",
    "            # A successful user object retrieval confirms it's searchable.\n",
    "            print(f\"Account @{username} appears in search results.\")\n",
    "            return \"Accessible and Public\"\n",
    "        else:\n",
    "            print(f\"Account @{username} does not exist or is suspended.\")\n",
    "            return \"Not Exists or Suspended\"\n",
    "\n",
    "    except Exception as e:\n",
    "        print(f\"An error occurred while checking @{username}: {e}\")\n",
    "        return \"Error\"\n",
    "\n",
    "async def main():\n",
    "    users_to_check = [\n",
    "        \"elonmusk\", \n",
    "        \"realDonaldTrump\", \n",
    "        \"NASA\", \n",
    "        \"Twitter\",\n",
    "        \"this_account_does_not_exist_xyz_123\"\n",
    "    ]\n",
    "    \n",
    "    for user in users_to_check:\n",
    "        status = await check_x_account_status(user)\n",
    "        print(f\"Status for @{user}: {status}\\n\")\n",
    "\n",
    "try:\n",
    "    asyncio.run(main())\n",
    "except RuntimeError:\n",
    "    import nest_asyncio\n",
    "    nest_asyncio.apply()\n",
    "    asyncio.run(main())"
   ]
  },
  {
   "cell_type": "code",
   "execution_count": null,
   "metadata": {},
   "outputs": [],
   "source": []
  }
 ],
 "metadata": {
  "accelerator": "GPU",
  "colab": {
   "gpuType": "L4",
   "provenance": []
  },
  "kernelspec": {
   "display_name": "Python 3 (ipykernel)",
   "language": "python",
   "name": "python3"
  },
  "language_info": {
   "codemirror_mode": {
    "name": "ipython",
    "version": 3
   },
   "file_extension": ".py",
   "mimetype": "text/x-python",
   "name": "python",
   "nbconvert_exporter": "python",
   "pygments_lexer": "ipython3",
   "version": "3.12.2"
  }
 },
 "nbformat": 4,
 "nbformat_minor": 4
}
